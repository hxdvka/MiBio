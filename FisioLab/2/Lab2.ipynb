{
 "cells": [
  {
   "cell_type": "code",
   "execution_count": 2,
   "metadata": {},
   "outputs": [],
   "source": [
    "#imports\n",
    "import scipy as sp\n",
    "import math\n",
    "import numpy as np\n",
    "\n",
    "import pprint  as pp\n",
    "import matplotlib.pyplot as plt\n",
    "from functools import partial\n",
    "from ipywidgets import interact\n",
    "\n",
    "\n"
   ]
  },
  {
   "cell_type": "code",
   "execution_count": 12,
   "metadata": {},
   "outputs": [],
   "source": [
    "#given params:\n",
    "#E\n",
    "c_Ena       = 45\n",
    "c_Ek        =-80\n",
    "c_El        =-59\n",
    "#g\n",
    "c_gna_bar    = 120\n",
    "c_gk_bar     = 36\n",
    "c_gl        = 0.3\n",
    "#C (cap membrana)\n",
    "c_C         = 1\n",
    "\n",
    "\n"
   ]
  },
  {
   "cell_type": "code",
   "execution_count": 13,
   "metadata": {},
   "outputs": [
    {
     "name": "stdout",
     "output_type": "stream",
     "text": [
      "0.3\n"
     ]
    }
   ],
   "source": [
    "#diffs\n",
    "f_dVdt = lambda t , Cm , Ix , g , V , E : (Ix - g * (V-E) ) / Cm\n",
    "f_dndt = lambda t , alpha_n , n , beta_n :  alpha_n*(1-n) - beta_n*n\n",
    "\n",
    "#alpha|beta -> m -> g_i -> g -> E\n",
    "f_alpha_m = lambda V : ( V + 45 )   /   ( 10 * (1 - np.exp (-(V+45)/10) ) )\n",
    "f_alpha_n = lambda V : ( V + 60 )   /   ( 100 * (1 - np.exp (-(V+60)/10) )  )\n",
    "f_beta_m  = lambda V : 4    *np.exp (   -(V+70) / 18 )   \n",
    "f_beta_n  = lambda V : 0.125*np.exp (   -(V+70) / 80 )     \n",
    "\n",
    "f_m     =lambda alpha_m , beta_m : alpha_m / (alpha_m + beta_m)\n",
    "\n",
    "f_gna   = lambda gna_bar , m , n : gna_bar * m**3 * (1-n)\n",
    "f_gk    = lambda gk_bar ,n : gk_bar *n**4\n",
    "f_gl    = lambda : c_gl\n",
    "f_g     = lambda gna , gk , gl: gna + gk + gl \n",
    "f_E     = lambda Ena, Ek, El, gna, gk , gl : np.average([Ena, Ek, El],weights=[gna,gk,gl])\n",
    "\n"
   ]
  }
 ],
 "metadata": {
  "kernelspec": {
   "display_name": "base",
   "language": "python",
   "name": "python3"
  },
  "language_info": {
   "codemirror_mode": {
    "name": "ipython",
    "version": 3
   },
   "file_extension": ".py",
   "mimetype": "text/x-python",
   "name": "python",
   "nbconvert_exporter": "python",
   "pygments_lexer": "ipython3",
   "version": "3.9.13"
  },
  "orig_nbformat": 4,
  "vscode": {
   "interpreter": {
    "hash": "6c0453e26b24401ab92fc4c9258d0e6c3ac378e13e0e842060a1489ed820d196"
   }
  }
 },
 "nbformat": 4,
 "nbformat_minor": 2
}
