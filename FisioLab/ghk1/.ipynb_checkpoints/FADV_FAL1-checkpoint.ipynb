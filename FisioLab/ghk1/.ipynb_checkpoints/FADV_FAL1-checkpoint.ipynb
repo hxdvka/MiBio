{
  "cells": [
    {
      "cell_type": "code",
      "execution_count": 6,
      "metadata": {
        "trusted": true
      },
      "outputs": [
        {
          "ename": "ModuleNotFoundError",
          "evalue": "No module named 'scipy'",
          "output_type": "error",
          "traceback": [
            "\u001b[1;31m---------------------------------------------------------------------------\u001b[0m",
            "\u001b[1;31mModuleNotFoundError\u001b[0m                       Traceback (most recent call last)",
            "Cell \u001b[1;32mIn[6], line 2\u001b[0m\n\u001b[0;32m      1\u001b[0m \u001b[39m#imports\u001b[39;00m\n\u001b[1;32m----> 2\u001b[0m \u001b[39mimport\u001b[39;00m \u001b[39mscipy\u001b[39;00m \u001b[39mas\u001b[39;00m \u001b[39msp\u001b[39;00m\n\u001b[0;32m      3\u001b[0m \u001b[39mimport\u001b[39;00m \u001b[39mmath\u001b[39;00m\n\u001b[0;32m      4\u001b[0m \u001b[39mimport\u001b[39;00m \u001b[39mnumpy\u001b[39;00m \u001b[39mas\u001b[39;00m \u001b[39mnp\u001b[39;00m\n",
            "\u001b[1;31mModuleNotFoundError\u001b[0m: No module named 'scipy'"
          ]
        }
      ],
      "source": [
        "#imports\n",
        "import scipy as sp\n",
        "import math\n",
        "import numpy as np\n",
        "from matplotlib import pyplot as plt\n",
        "from functools import partial\n"
      ]
    },
    {
      "cell_type": "code",
      "execution_count": 6,
      "metadata": {
        "trusted": true
      },
      "outputs": [],
      "source": [
        "#cts\n",
        "cg_na=74\n",
        "cg_l = 19\n",
        "cE_na = 60\n",
        "cE_l = -67\n",
        "cC_m = 0.01\n",
        "cV_h = 1.5\n",
        "ck = 16\n"
      ]
    },
    {
      "cell_type": "code",
      "execution_count": 10,
      "metadata": {
        "trusted": true
      },
      "outputs": [
        {
          "data": {
            "text/plain": [
              "[<matplotlib.lines.Line2D at 0x39bff38>]"
            ]
          },
          "execution_count": 10,
          "metadata": {},
          "output_type": "execute_result"
        },
        {
          "data": {
            "image/png": "[encoded data removed]",
            "text/plain": [
              "<Figure size 640x480 with 1 Axes>"
            ]
          },
          "metadata": {},
          "output_type": "display_data"
        }
      ],
      "source": [
        "m_Dom = 150\n",
        "m_step = 0.5\n",
        "plDom = np.arange(-m_Dom , m_Dom , 1)\n",
        "def pv(v):\n",
        "    return 1/(1+math.exp((cV_h-v)/ck))\n",
        "plt.plot(plDom,list(map(pv,plDom)))"
      ]
    },
    {
      "cell_type": "code",
      "execution_count": 13,
      "metadata": {
        "trusted": true
      },
      "outputs": [],
      "source": [
        "def dV(v,I):\n",
        "    return -(cg_na*pv(v)*(v-cE_na) + cg_l*(v-cE_l) + I) / cC_m \n",
        "def V(v,t,I):\n",
        "    return -(cg_na*pv(v)*(v-cE_na) + cg_l*(v-cE_l) + I)*t / cC_m \n",
        "V0 = partial (V,I=0)\n",
        "dV0 = partial (dV,I=0)\n"
      ]
    },
    {
      "cell_type": "code",
      "execution_count": 54,
      "metadata": {
        "trusted": true
      },
      "outputs": [
        {
          "name": "stdout",
          "output_type": "stream",
          "text": [
            "(-100.0, -52.512321462168096) (-33.33333333333333, -40.28545968005547) (33.33333333333334, 30.863151969542628) (100.0, 30.863151969543207) \n",
            "\n"
          ]
        }
      ],
      "source": [
        "#finding roots of dV/dt with I = 0\n",
        "\n",
        "seeds = np.linspace(-100,100,4)\n",
        "r_dV0 = partial (sp.optimize.fsolve, dV0)\n",
        "print(*(zip(seeds, map(lambda x :x[0] , map(r_dV0, seeds)))),'\\n')"
      ]
    }
  ],
  "metadata": {
    "kernelspec": {
      "display_name": "Python 3",
      "language": "python",
      "name": "python3"
    },
    "language_info": {
      "codemirror_mode": {
        "name": "ipython",
        "version": 3
      },
      "file_extension": ".py",
      "mimetype": "text/x-python",
      "name": "python",
      "nbconvert_exporter": "python",
      "pygments_lexer": "ipython3",
      "version": "3.8.1"
    },
    "vscode": {
      "interpreter": {
        "hash": "036181e97f10660864f6359c96c5991bad688b6c3b2ff51c48ab8a579327ffe0"
      }
    }
  },
  "nbformat": 4,
  "nbformat_minor": 4
}
