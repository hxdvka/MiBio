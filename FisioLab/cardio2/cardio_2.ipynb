{
 "cells": [
  {
   "attachments": {},
   "cell_type": "markdown",
   "metadata": {},
   "source": [
    "\n",
    "T := periodo\n",
    "\n",
    "$\\frac{dV}{dt} =  Q_1-Q_2$\n",
    "\n",
    "Varteria = flujo entrante - flujo saliente\n",
    "\n",
    "$Q_1 = Q_l $ flujo ventículo izq -> aorta\n",
    "\n",
    "$Q_2 = Q_s$ flujo orta -> sistemico\n",
    "\n",
    "$\\frac{dV_{sa}}{dt} =  Q_l-Q_s$ ec de interés\n",
    "\n",
    "$V_{sa}(t) = C_{sa}P_{sa}(t)$\n",
    "\n",
    "$Q_s(t) = \\frac{P_{sa}(t)-P_{sv}(t)}{R_s}  ; P_{sv}(t) despreciable$\n",
    "\n",
    "\n"
   ]
  },
  {
   "attachments": {},
   "cell_type": "markdown",
   "metadata": {},
   "source": [
    ">>>\n",
    "#### $ C_{sa}\\frac{dP_{sa}(t)}{dt} = Q_l(t) - \\frac{P_{sa}(t)}{R_s}  $\n",
    "\n",
    "en diástole $Q_l= 0$; pero en general : $Q_l = Q_{A_o}(t)$\n",
    "\n",
    "$\\Delta P_{sa} = P_{sa}(0)-P_{sa}(T)  $\n",
    "\n",
    "$\\Delta V_o = c_{sa}\\Delta P_{sa}$   \n",
    "(stroke Vol)"
   ]
  },
  {
   "attachments": {},
   "cell_type": "markdown",
   "metadata": {},
   "source": [
    ">1.\n",
    "Note que $Q_{A_o}(0) = Q_{A_o}(T) = 0 $;\n",
    "adicionalmente como el sistema es periodico con periodo $T$ el estado en $0$ va a ser identico al estado en $T$\n",
    "\n",
    "partimos de:\n",
    "$C_{sa}\\frac{dP_{sa}(t)}{dt} = - \\frac{P_{sa}(t)}{R_s} $\n",
    "\n",
    "luego reordenamos la ec e integramos respecto a t:\n",
    "\n",
    "$\\int \\frac{P'_{sa}(t)}{P_{sa}(t)} dt = \\int - \\frac{1}{R_s C_{sa}} dt$ \n",
    "\n",
    "despejando $P_{sa}$ llegamos a:\n",
    "\n",
    "$\n",
    "P_{sa}(t) = \\exp(k-\\frac{t}{R_s C_{sa}}) ; k\\; cte $\n",
    "\n",
    "$ \\star \\;\n",
    "P_{sa}(t) = \\exp(-\\frac{t}{R_s C_{sa}})\\exp(k) ; k\\; cte $"
   ]
  },
  {
   "attachments": {},
   "cell_type": "markdown",
   "metadata": {},
   "source": [
    "\n",
    "$P_{sa}(0) = \\exp(-\\frac{0}{R_s C_{sa}})\\exp(k) = \\exp(k) \\;\\.\\blacktriangle $\n",
    "\n",
    "$P_{sa}(T) = \\exp(-\\frac{T}{R_s C_{sa}})\\exp(k)$\n",
    "\n"
   ]
  },
  {
   "attachments": {},
   "cell_type": "markdown",
   "metadata": {},
   "source": [
    "$$\n",
    "\\rightarrow \n",
    "\\begin{align*}\n",
    "\\Delta P_{sa} =& \\exp(k) - \\exp(-\\frac{T}{R_s C_{sa}})\\exp(k)  \\\\\n",
    "              =& \\exp(k)( 1-\\exp(-\\frac{T}{R_s C_{sa}}) )\\\\\n",
    "              =& P_{sa}(0)( 1-\\exp(-\\frac{T}{R_s C_{sa}}) )\n",
    "\\end{align*}$$\n",
    "\n",
    "\n",
    "$$\n",
    "\\rightarrow \n",
    "\\begin{align*}\n",
    "\\Delta V_o =& C_{sa} P_{sa}(0) ( 1-\\exp(-\\frac{T}{R_s C_{sa}}) ) \\\\\n",
    " P_{sa}(0) =& \\frac{\\Delta V_o } {C_{sa}( 1-\\exp(-\\frac{T}{R_s C_{sa}}) )   } \\\\\n",
    " P_{sa}(T) =& \\exp(-\\frac{T}{R_s C_{sa}}) P_{sa}(0)\n",
    "\\end{align*}$$\n",
    "\n",
    "\n",
    "\n",
    "\n"
   ]
  },
  {
   "attachments": {},
   "cell_type": "markdown",
   "metadata": {},
   "source": [
    ">2\n",
    "\n",
    "diástole $\\rightarrow Q_{A_o} = 0$\n",
    "\n",
    "el desarrollo es idéntico al del punto 1 hasta $\\star$ donde podemos reemplazar $P_{sa}(0)$:\n",
    "$$\n",
    "\\begin{equation*}\n",
    "P_{sa}(t) = \\exp(-\\frac{t}{R_s C_{sa}})P_{sa}(0)\n",
    "\\end{equation*}\n",
    "$$\n",
    "\n"
   ]
  },
  {
   "attachments": {},
   "cell_type": "markdown",
   "metadata": {},
   "source": [
    ">3\n",
    "\n",
    "note que para $t \\in (0,T_s): Q_{A_o} \\neq 0$.\n",
    "\n",
    "por lo que las ec diff tienen la forma: \n",
    "\n",
    "$$\n",
    "af'(t)=\n",
    "\\begin{cases}\n",
    "  bt - cf(t)     &   0<t < T_M  \\\\\n",
    "  b(d-t) - cf(t)     &  T_M <  t < T_s \\\\\n",
    "   - cf(t)     &  T_s < t <T\n",
    "\\end{cases}\n",
    "$$\n",
    "\n",
    "es fácil verificar que las soluciones para estas ecs diff son de la siguiente forma en cada trozo de $Q_{A_o}$:\n",
    "$$\n",
    "f(t) =\n",
    "\\begin{cases}\n",
    " -&\\frac{a b}{c^2} +& k \\exp(\\frac{-c t}{a})  &                & + \\frac{b t}{c} & t\\leq T_M   \\\\\n",
    "  &\\frac{a b}{c^2} +& k \\exp^(\\frac{-c t}{a}) &+ \\frac{b d}{c} & - \\frac{b t}{c} & t \\in (T_M,T_s) \\\\\n",
    "  && k \\exp(\\frac{-c t}{a})  &&& t\\geq T_s\n",
    "\\end{cases}\n",
    "$$\n",
    "donde \n",
    "......"
   ]
  },
  {
   "attachments": {},
   "cell_type": "markdown",
   "metadata": {},
   "source": [
    "### tal vez no importa>>\n",
    "\n",
    "junto con lo desarrollado en los anteriores puntos se llega a :\n",
    "$$\n",
    "\\begin{align*}\n",
    "P_{sa_{t \\leq T_M}}        =& -\\frac{C_{sa}Q_MR_s^2}{T_M} + k \\exp(\\frac{t}{R_s C_{sa}}) - \\frac{R_sQ_M t}{T_M} \\\\\n",
    "P_{sa_{t \\in (T_M,T_s)}}   =& \\frac{C_{sa}Q_MR_s^2}{T_s-T_M} + k \\exp(\\frac{t}{R_s C_{sa}}) - \\frac{R_sQ_MT}{T_s-T_M}  + \\frac{R_sQ_M t}{T_s-T_M}\\\\\n",
    "P_{sa_{t \\geq T_s}}        =&  \\exp(-\\frac{t}{R_s C_{sa}})P_{sa}(0)\\\\\n",
    "\\end{align*}\n",
    "$$"
   ]
  },
  {
   "attachments": {},
   "cell_type": "markdown",
   "metadata": {},
   "source": [
    "-(a b t)/c^2 - (a k e^(-(c t)/a))/c                       + (b t^2)/(2 c)   + constante |  0, TM\n",
    " (a b t)/c^2 - (a k e^(-(c t)/a))/c  + (b d t)/c          - (b t^2)/(2 c)   + constante |  TM,Ts\n",
    "             - (a k e^(-(c t)/a))/c                                         + constante |  Ts,T\n",
    "\n",
    "{abT_s}{c^2}\n",
    "\n",
    "\n",
    "\n",
    "$\n",
    "-3 P_{sa}(0)  C_{sa} R_s \\exp( -\\frac{t}{R_sC_{sa}}  ) + \\frac{R_s Q_MT}{T_s-T_M}\n",
    "$"
   ]
  },
  {
   "cell_type": "code",
   "execution_count": 309,
   "metadata": {},
   "outputs": [],
   "source": [
    "from sympy import *#symbols,functions,Derivative,Function, Piecewise , Eq, integrate,dsolve\n",
    "from functools import  partial,reduce\n",
    "from itertools import repeat\n",
    "import numpy as np\n",
    "import scipy as sp\n",
    "\n",
    "a,b1,b2,c,d,t= symbols('a b1 b2 c d t')\n",
    "\n",
    "p_Ts , p_TM, p_T = symbols ('p_Ts p_TM p_T')\n",
    "p_Csa , p_QM , p_Rs , p_DVo = symbols('p_Csa p_QM p_Rs p_DVo')\n",
    "\n",
    "f, f_TM, f_Ts, f_T =symbols('f f_TM f_Ts f_T',cls=Function)\n",
    "\n",
    "f_Psa_TM = Eq(a*f_TM(t).diff(t) ,  b1 * t-c*f_TM(t) )\n",
    "f_Psa_Ts = Eq(a*f_Ts(t).diff(t) ,  b2 * (d-t)-c*f_Ts(t) )\n",
    "f_Psa_T  = Eq(a*f_T(t) .diff(t) , -c * f_T(t) )\n",
    "\n",
    "f_PSA_pw = Piecewise(   (f_Psa_TM, And(0<t,t<p_TM) ) , \n",
    "                        (f_Psa_Ts, And(p_TM<t,t<p_Ts) ) , \n",
    "                        (f_Psa_T, And(p_Ts<t,t<p_T )) )\n",
    "\n",
    "f_Psa   = [f_Psa_TM ,f_Psa_Ts   ,f_Psa_T]\n",
    "f_fs    = [f_TM(t)     ,f_Ts(t)       ,f_T(t)]\n",
    "#(f_Psa_TM,(t,0,p_TM)).doit()\n",
    "\n",
    "#list( \n",
    "Reimu = list(\n",
    "    map( dsolve , f_Psa , f_fs) \n",
    "    )\n",
    "Miko = list(map(integrate , Reimu , [(t,0,p_TM), (t,p_TM, p_Ts) , (t,p_Ts, p_T)]))\n"
   ]
  },
  {
   "cell_type": "code",
   "execution_count": 173,
   "metadata": {},
   "outputs": [
    {
     "data": {
      "text/latex": [
       "$\\displaystyle \\begin{cases} \\frac{p_{Rs} \\left(2 p_{DVo} + 2 p_{QM} p_{T} - p_{QM} p_{Ts}\\right)}{2} & \\text{for}\\: \\frac{1}{p_{Rs}} > -\\infty \\wedge \\frac{1}{p_{Rs}} < \\infty \\wedge \\frac{1}{p_{Rs}} \\neq 0 \\\\\\frac{p_{Csa} p_{QM} p_{Rs} p_{T} e^{\\frac{p_{T}}{p_{Csa} p_{Rs}}} - p_{Csa} p_{QM} p_{Rs} p_{T} - \\frac{p_{Csa} p_{QM} p_{Rs} p_{Ts} e^{\\frac{p_{T}}{p_{Csa} p_{Rs}}}}{2} + \\frac{p_{Csa} p_{QM} p_{Rs} p_{Ts}}{2} + p_{DVo} p_{T} e^{\\frac{p_{T}}{p_{Csa} p_{Rs}}}}{p_{Csa} \\left(e^{\\frac{p_{T}}{p_{Csa} p_{Rs}}} - 1\\right)} & \\text{otherwise} \\end{cases}$"
      ],
      "text/plain": [
       "Piecewise((p_Rs*(2*p_DVo + 2*p_QM*p_T - p_QM*p_Ts)/2, (1/p_Rs > -oo) & (1/p_Rs < oo) & Ne(1/p_Rs, 0)), ((p_Csa*p_QM*p_Rs*p_T*exp(p_T/(p_Csa*p_Rs)) - p_Csa*p_QM*p_Rs*p_T - p_Csa*p_QM*p_Rs*p_Ts*exp(p_T/(p_Csa*p_Rs))/2 + p_Csa*p_QM*p_Rs*p_Ts/2 + p_DVo*p_T*exp(p_T/(p_Csa*p_Rs)))/(p_Csa*(exp(p_T/(p_Csa*p_Rs)) - 1)), True))"
      ]
     },
     "execution_count": 173,
     "metadata": {},
     "output_type": "execute_result"
    }
   ],
   "source": [
    "#substitutions\n",
    "\n",
    "subDict = { a  : p_Csa , \n",
    "            b1 : p_QM/p_TM  , \n",
    "            b2 : p_QM/(p_Ts- p_TM) , \n",
    "            c  : 1/p_Rs , \n",
    "            d  : p_T , \n",
    "            'C1' : p_DVo/(p_Csa*(1-exp(-p_T/(p_Rs*p_Csa)))) }\n",
    "Neko = list(map( lambda f : f.subs(subDict) , Miko ))\n",
    "ai = sympy.simplify(Neko[0].rhs + Neko[1].rhs+(Neko[2].rhs))\n",
    "ai"
   ]
  },
  {
   "cell_type": "code",
   "execution_count": 174,
   "metadata": {},
   "outputs": [
    {
     "data": {
      "text/latex": [
       "$\\displaystyle \\frac{p_{Rs} \\left(2 p_{DVo} + 2 p_{QM} p_{T} - p_{QM} p_{Ts}\\right)}{2}$"
      ],
      "text/plain": [
       "p_Rs*(2*p_DVo + 2*p_QM*p_T - p_QM*p_Ts)/2"
      ]
     },
     "execution_count": 174,
     "metadata": {},
     "output_type": "execute_result"
    }
   ],
   "source": [
    "ai.args[0][0]"
   ]
  },
  {
   "attachments": {},
   "cell_type": "markdown",
   "metadata": {},
   "source": [
    "as seen in the next cell we're ignoring $Q_{A_o}(t)$ for $t \\in (0,T_s)$  for apparently no reason and i want my time back.\n",
    "\n",
    "(note $\\frac{\\Delta V_o R_s} {T} = \\overline P_{sa}$ and the result below shows only the -desired- integral) "
   ]
  },
  {
   "cell_type": "code",
   "execution_count": 180,
   "metadata": {},
   "outputs": [
    {
     "data": {
      "text/latex": [
       "$\\displaystyle \\begin{cases} p_{DVo} p_{Rs} & \\text{for}\\: \\frac{1}{p_{Rs}} > -\\infty \\wedge \\frac{1}{p_{Rs}} < \\infty \\wedge \\frac{1}{p_{Rs}} \\neq 0 \\\\\\frac{p_{DVo} p_{T} e^{\\frac{p_{T}}{p_{Csa} p_{Rs}}}}{p_{Csa} \\left(e^{\\frac{p_{T}}{p_{Csa} p_{Rs}}} - 1\\right)} & \\text{otherwise} \\end{cases}$"
      ],
      "text/plain": [
       "Piecewise((p_DVo*p_Rs, (1/p_Rs > -oo) & (1/p_Rs < oo) & Ne(1/p_Rs, 0)), (p_DVo*p_T*exp(p_T/(p_Csa*p_Rs))/(p_Csa*(exp(p_T/(p_Csa*p_Rs)) - 1)), True))"
      ]
     },
     "execution_count": 180,
     "metadata": {},
     "output_type": "execute_result"
    }
   ],
   "source": [
    "shiteru = sympy.simplify( integrate(Reimu[2],(t,0,p_T)).subs(subDict).rhs)\n",
    "shiteru"
   ]
  },
  {
   "cell_type": "code",
   "execution_count": 181,
   "metadata": {},
   "outputs": [
    {
     "data": {
      "text/latex": [
       "$\\displaystyle p_{DVo} p_{Rs}$"
      ],
      "text/plain": [
       "p_DVo*p_Rs"
      ]
     },
     "execution_count": 181,
     "metadata": {},
     "output_type": "execute_result"
    }
   ],
   "source": [
    "shiteru.args[0][0]"
   ]
  },
  {
   "attachments": {},
   "cell_type": "markdown",
   "metadata": {},
   "source": [
    ">5, 6 simulate something or other "
   ]
  },
  {
   "cell_type": "code",
   "execution_count": 252,
   "metadata": {},
   "outputs": [],
   "source": [
    "f_QAo = Piecewise(\n",
    "                (t*p_QM / p_TM                  , And( 0    < t , t < p_TM )),\n",
    "                ((p_Ts - t)*p_QM /( p_Ts-p_TM ) , And( p_TM < t , t < p_Ts) ),\n",
    "                ( 0                             , And( p_Ts < t , t < p_T) )\n",
    ")\n",
    "p_subsDict = {  \n",
    "    p_T     :   0.0125,\n",
    "    p_Ts    :   0.005,\n",
    "    p_TM  :   0.002,\n",
    "    p_Csa   :   0.00175,\n",
    "    p_Rs    :   17.5,\n",
    "    p_QM  :   28 ,\n",
    "    p_DVo   :   0.07,\n",
    "    t: t%0.0125\n",
    "}\n",
    "img_QAo = sympy.plot(f_QAo.subs(p_subsDict), (t,0,0.05),  nb_of_points=400,\n",
    "                       ylabel = 'QAo', title = 'Flujo aórtico[L/m] vs tiempo[m]',\n",
    "                        margin = 0.2\n",
    "                        ,show=False\n",
    "                        )\n",
    "  \n",
    "#img_QAo.save(\"fig_QAo.png\")\n",
    "\n",
    "#f_QAo_sub = f_QAo.subs(p_subsDict)\n",
    "\n",
    "#f_aux = f_QAo_sub.doit(  )\n",
    "#sympy.plot(f_aux)\n",
    "#(f_QAo.subs(p_subsDict))\n",
    "#f_QAo_sub.doit((t,0))   "
   ]
  },
  {
   "cell_type": "code",
   "execution_count": 349,
   "metadata": {},
   "outputs": [
    {
     "data": {
      "text/latex": [
       "$\\displaystyle f_{xPsa}{\\left(1.0 t \\bmod 0.0125 \\right)} = \\left(245000.0 \\left(1.0 t \\bmod 0.0125\\right)\\right) - 7503.125 + \\left(119.356781424784 \\left(e^{- 32.6530612244898 \\left(1.0 t \\bmod 0.0125\\right)}\\right)\\right)$"
      ],
      "text/plain": [
       "Eq(f_xPsa(Mod(1.0*t, 0.0125)), 245000.0*(Mod(1.0*t, 0.0125)) - 7503.125 + 119.356781424784*exp(-32.6530612244898*Mod(1.0*t, 0.0125)))"
      ]
     },
     "execution_count": 349,
     "metadata": {},
     "output_type": "execute_result"
    }
   ],
   "source": [
    "f_xPsa = symbols('f_xPsa' , cls = Function)\n",
    "\n",
    "ec_subsDict = {f_TM(t) : f_xPsa(t) , f_Ts(t) : f_xPsa(t) , f_T(t) : f_xPsa(t)}\n",
    "\n",
    "#sympy.plot(f_PSA_pw.subs(subDict).subs(p_subsDict))\n",
    "#dsolve( f_PSA_pw.subs(subDict).subs(p_subsDict))\n",
    "#simplify( f_PSA_pw.subs(subDict).subs({f_TM(t) : f_xPsa(t) , f_Ts(t) : f_xPsa(t) , f_T(t) : f_xPsa(t)}).subs(p_subsDict))\n",
    "ff_Psa = ( f_PSA_pw\n",
    "                .subs({f_TM(t) : f_xPsa(t) , f_Ts(t) : f_xPsa(t) , f_T(t) : f_xPsa(t)})\n",
    "                #.subs(subDict)\n",
    "                #.subs(p_subsDict)\n",
    "                )\n",
    "#nsolve(ff_Psa, 0.001)\n",
    "dsolve(ff_Psa.args[0][0]).subs(subDict).subs(p_subsDict)"
   ]
  },
  {
   "cell_type": "code",
   "execution_count": null,
   "metadata": {},
   "outputs": [],
   "source": [
    "dsolve(ff_Psa.args[0][0],func=f_xPsa(t))\n",
    "#fff_Psa =  f_PSA_pw.subs(subDict).subs({f_TM(t) : f_xPsa(t) , f_Ts(t) : f_xPsa(t) , f_T(t) : f_xPsa(t)})\n",
    "#(simplify(ff_Psa.args[0][0]))\n",
    "lf_Psa = lambdify((t,), ff_Psa.args[0][0] )  \n",
    "lf_Psa(0)\n",
    "#sp.optimize.fsolve (lf_Psa,0)"
   ]
  },
  {
   "cell_type": "code",
   "execution_count": 426,
   "metadata": {},
   "outputs": [
    {
     "name": "stdout",
     "output_type": "stream",
     "text": [
      "Eq(f_Ts(0.002), 6828.89445660557)\n"
     ]
    }
   ],
   "source": [
    "Clownpiece =list( map( lambda f: f.subs(subDict).subs(p_subsDict) , Reimu))\n",
    "#list ( Clownpiece )[0].subs(t,0.01)\n",
    "def ev_Psa(t_in):\n",
    "    T = p_subsDict[p_T]\n",
    "    xt = t_in%T\n",
    "    if   xt < p_subsDict[p_TM]:\n",
    "        i=0\n",
    "    elif xt < p_subsDict[p_Ts]:\n",
    "        i=1\n",
    "    elif xt < p_subsDict[p_T]:\n",
    "        i=2\n",
    "    else:\n",
    "        return NaN\n",
    "    return Clownpiece[i].subs(t,t_in)\n",
    "\n",
    "print(ev_Psa(0.002))\n"
   ]
  },
  {
   "cell_type": "code",
   "execution_count": null,
   "metadata": {},
   "outputs": [],
   "source": [
    "Reimu[0].subs(subDict).subs(p_subsDict).subs(t,0.1)\n",
    "\n",
    "import matplotlib.pyplot as plt\n",
    "\n",
    "# no voy a limpiar el código pq nadie lo lee .-. (creo?)\n"
   ]
  },
  {
   "attachments": {},
   "cell_type": "markdown",
   "metadata": {},
   "source": []
  }
 ],
 "metadata": {
  "kernelspec": {
   "display_name": "Python 3",
   "language": "python",
   "name": "python3"
  },
  "language_info": {
   "codemirror_mode": {
    "name": "ipython",
    "version": 3
   },
   "file_extension": ".py",
   "mimetype": "text/x-python",
   "name": "python",
   "nbconvert_exporter": "python",
   "pygments_lexer": "ipython3",
   "version": "3.11.2"
  },
  "orig_nbformat": 4,
  "vscode": {
   "interpreter": {
    "hash": "e734087488f68825f55d31ed21778fb08b12019b290cead284eb4511b04582d8"
   }
  }
 },
 "nbformat": 4,
 "nbformat_minor": 2
}
