{
 "cells": [
  {
   "attachments": {},
   "cell_type": "markdown",
   "metadata": {},
   "source": [
    "\n",
    "T := periodo\n",
    "\n",
    "$\\frac{dV}{dt} =  Q_1-Q_2$\n",
    "\n",
    "Varteria = flujo entrante - flujo saliente\n",
    "\n",
    "$Q_1 = Q_l $ flujo ventículo izq -> aorta\n",
    "\n",
    "$Q_2 = Q_s$ flujo orta -> sistemico\n",
    "\n",
    "$\\frac{dV_{sa}}{dt} =  Q_l-Q_s$ ec de interés\n",
    "\n",
    "$V_{sa}(t) = C_{sa}P_{sa}(t)$\n",
    "\n",
    "$Q_s(t) = \\frac{P_{sa}(t)-P_{sv}(t)}{R_s}  ; P_{sv}(t) despreciable$\n",
    "\n",
    "\n"
   ]
  },
  {
   "attachments": {},
   "cell_type": "markdown",
   "metadata": {},
   "source": [
    ">>>\n",
    "#### $ C_{sa}\\frac{dP_{sa}(t)}{dt} = Q_l(t) - \\frac{P_{sa}(t)}{R_s}  $\n",
    "\n",
    "en diástole $Q_l= 0$; pero en general : $Q_l = Q_{A_o}(t)$\n",
    "\n",
    "$\\Delta P_{sa} = P_{sa}(0)-P_{sa}(T)  $\n",
    "\n",
    "$\\Delta V_o = c_{sa}\\Delta P_{sa}$   \n",
    "(stroke Vol)"
   ]
  },
  {
   "attachments": {},
   "cell_type": "markdown",
   "metadata": {},
   "source": [
    ">1.\n",
    "Note que $Q_{A_o}(0) = Q_{A_o}(T) = 0 $;\n",
    "adicionalmente como el sistema es periodico con periodo $T$ el estado en $0$ va a ser identico al estado en $T$\n",
    "\n",
    "partimos de:\n",
    "$C_{sa}\\frac{dP_{sa}(t)}{dt} = - \\frac{P_{sa}(t)}{R_s} $\n",
    "\n",
    "luego reordenamos la ec e integramos respecto a t:\n",
    "\n",
    "$\\int \\frac{P'_{sa}(t)}{P_{sa}(t)} dt = \\int - \\frac{1}{R_s C_{sa}} dt$ \n",
    "\n",
    "despejando $P_{sa}$ llegamos a:\n",
    "\n",
    "$\n",
    "P_{sa}(t) = \\exp(k-\\frac{t}{R_s C_{sa}}) ; k\\; cte &\n",
    "\n",
    "$ \\star \\;\n",
    "P_{sa}(t) = \\exp(-\\frac{t}{R_s C_{sa}})\\exp(k) ; k\\; cte $"
   ]
  },
  {
   "attachments": {},
   "cell_type": "markdown",
   "metadata": {},
   "source": [
    "\n",
    "$P_{sa}(0) = \\exp(-\\frac{0}{R_s C_{sa}})\\exp(k) = \\exp(k) \\;\\.\\blacktriangle $\n",
    "\n",
    "$P_{sa}(T) = \\exp(-\\frac{T}{R_s C_{sa}})\\exp(k)$\n",
    "\n"
   ]
  },
  {
   "attachments": {},
   "cell_type": "markdown",
   "metadata": {},
   "source": [
    "$$\n",
    "\\rightarrow \n",
    "\\begin{align*}\n",
    "\\Delta P_{sa} =& \\exp(k) - \\exp(-\\frac{T}{R_s C_{sa}})\\exp(k)  \\\\\n",
    "              =& \\exp(k)( 1-\\exp(-\\frac{T}{R_s C_{sa}}) )\\\\\n",
    "              =& P_{sa}(0)( 1-\\exp(-\\frac{T}{R_s C_{sa}}) )\n",
    "\\end{align*}$$\n",
    "\n",
    "\n",
    "$$\n",
    "\\rightarrow \n",
    "\\begin{align*}\n",
    "\\Delta V_o =& C_{sa} P_{sa}(0) ( 1-\\exp(-\\frac{T}{R_s C_{sa}}) ) \\\\\n",
    " P_{sa}(0) =& \\frac{\\Delta V_o } {C_{sa}( 1-\\exp(-\\frac{T}{R_s C_{sa}}) )   } \\\\\n",
    " P_{sa}(T) =& \\exp(-\\frac{T}{R_s C_{sa}}) P_{sa}(0)\n",
    "\\end{align*}$$\n",
    "\n",
    "\n",
    "\n",
    "\n"
   ]
  },
  {
   "attachments": {},
   "cell_type": "markdown",
   "metadata": {},
   "source": [
    ">2\n",
    "\n",
    "diástole $\\rightarrow Q_{A_o} = 0$\n",
    "\n",
    "el desarrolo es idéntico al del punto 1 hasta $\\star$ donde podemos reemplazar $P_{sa}(0)$:\n",
    "$$\n",
    "\\begin{equation*}\n",
    "P_{sa}(t) = \\exp(-\\frac{t}{R_s C_{sa}})P_{sa}(0)\n",
    "\\end{equation*}\n",
    "$$\n",
    "\n"
   ]
  },
  {
   "cell_type": "code",
   "execution_count": 2,
   "metadata": {},
   "outputs": [],
   "source": [
    "pass"
   ]
  },
  {
   "attachments": {},
   "cell_type": "markdown",
   "metadata": {},
   "source": []
  }
 ],
 "metadata": {
  "kernelspec": {
   "display_name": "Python 3",
   "language": "python",
   "name": "python3"
  },
  "language_info": {
   "codemirror_mode": {
    "name": "ipython",
    "version": 3
   },
   "file_extension": ".py",
   "mimetype": "text/x-python",
   "name": "python",
   "nbconvert_exporter": "python",
   "pygments_lexer": "ipython3",
   "version": "3.11.2"
  },
  "orig_nbformat": 4,
  "vscode": {
   "interpreter": {
    "hash": "e734087488f68825f55d31ed21778fb08b12019b290cead284eb4511b04582d8"
   }
  }
 },
 "nbformat": 4,
 "nbformat_minor": 2
}
