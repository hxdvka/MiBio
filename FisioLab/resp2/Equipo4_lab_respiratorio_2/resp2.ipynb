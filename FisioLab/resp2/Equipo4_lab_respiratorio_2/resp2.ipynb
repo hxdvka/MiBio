{
 "cells": [
  {
   "attachments": {},
   "cell_type": "markdown",
   "metadata": {},
   "source": [
    " 5 supuestos \n",
    "\n",
    "alveolos en serie\n",
    "\n",
    "ventilación y perfusión únicos parámetros de control de los alveolos\n"
   ]
  },
  {
   "attachments": {},
   "cell_type": "markdown",
   "metadata": {},
   "source": [
    "calc $f_T$ dado $E = nE_M$"
   ]
  },
  {
   "attachments": {},
   "cell_type": "markdown",
   "metadata": {},
   "source": [
    "\\begin{align*}\n",
    "\n",
    "f&= \\sigma (P_I-P_v) Q_T E  \\\\\n",
    "\n",
    "E_M &= \\frac {r_0}{r_0+\\sigma k T}\n",
    "\n",
    "\n",
    "\\end{align*}"
   ]
  },
  {
   "attachments": {},
   "cell_type": "markdown",
   "metadata": {},
   "source": [
    "Dado que el radio de perfusión es el único parametro de control vamos a suponer que es igual a $r_n$ en todos los alveolos del pulmón para simular la eficiencia dada. Note que aunque no es una suposición realista es suficiente en este caso ya que para la eficiencia total del pulmón es indistinguible un valor promedio que se ajuste de valores individuales que lleven al mismo resultado.\n",
    "\n",
    "Por lo anterior sean $E_n,r_n$ tales que: \n",
    "\n",
    "\\begin{align*}\n",
    "\\frac{E_n}{E_M} &= n ,\\; n\\in(0,1)\\\\\n",
    "E_n&= \\frac{1}{Q_T} \\sum_{i} \\frac{Q_i r_n}{r_n+\\sigma kT} = \\frac{r_n}{r_n+\\sigma kT}  \\\\\n",
    "E_M &= \\frac {r_0}{r_0+\\sigma k T}\n",
    "\\end{align*}\n"
   ]
  },
  {
   "attachments": {},
   "cell_type": "markdown",
   "metadata": {},
   "source": [
    "\\begin{align*}\n",
    "r_n &=  n*E_M(r_n+\\sigma kT) \\\\\n",
    "r_n &= a * r_n + a * b \\\\\n",
    "r_n-a*r_n &= a * b \\\\\n",
    "r_n(1-a) &= a * b \\\\\n",
    "r_n &= \\frac{a * b} {1-a} \\\\\n",
    "r_n &= \\frac{n E_M \\sigma kT} {1-n E_M} \\\\\n",
    "\n",
    "\\end{align*}\n"
   ]
  },
  {
   "attachments": {},
   "cell_type": "markdown",
   "metadata": {},
   "source": [
    "dado lo anterior el flujo neto para un gas $f_n$ con una eficiencia de $n$ es igual a:\n",
    "\\begin{equation*}\n",
    "f_n = \\sigma (P_I-P_v) Q_T E_n \n",
    "\\end{equation*}"
   ]
  },
  {
   "attachments": {},
   "cell_type": "markdown",
   "metadata": {},
   "source": [
    "\\begin{align*}\n",
    "    \\sigma      &=  0.231                   &\\frac{mmol}{L \\cdot kPa}\\\\ \n",
    "                &=  0,03079                  &\\frac{mmol}{L \\cdot mmHg}\\\\ \n",
    "                &=  1,8361x10^{19}           &\\frac{1}{L \\cdot mmHg}   \\\\\n",
    "    C_{I(CO_2)} &=  0                       &\\frac{mmol}{L}    \\\\\n",
    "    T           &=  310.15                  &K    \\\\\n",
    "    K           &=  1,380 649 x 10^{-23}    &\\frac{J}{K}\\\\ \n",
    "                &=  1,0355 x 10 ^{-22}      &\\frac{L \\cdot mmHg}{K }   \\\\\n",
    "    C_v         &=  23.21                   &\\frac{mmol}{L}    \\\\\n",
    "    P_*         &=  25                      &{mmHg}    \\\\\n",
    "    r           &=  2                       &\\frac{L_g}{L_l} \\\\\n",
    "\n",
    "\\end{align*}"
   ]
  },
  {
   "attachments": {},
   "cell_type": "markdown",
   "metadata": {},
   "source": [
    "Oxigen values as>>\n",
    "\\begin{align*}\n",
    "MM_{O_2} &= 32 g/mol\\\\\n",
    "\\rho_{O_2} &= 1.3 kg/m^3 = 1.3 g/L  \\;\\text{(densidad)}\\\\ \n",
    "C_{atm_{O_2}} = 21%\\\\\n",
    "C_{O_2} &= 0.21*1.3 \\frac{g} {L} \\\\\n",
    "        &= \\frac{0.21*1.3} {32}  \\frac{mol}{L} \\\\\n",
    "        &= \\frac{0.21*1.3 e3} {32} = 8.5  \\frac{mmol}{L}\\\\\n",
    "C_{v_{O_2}} &= 3.3 \\frac{mmol}{L}\\\\\n",
    "\\end{align*}"
   ]
  },
  {
   "attachments": {},
   "cell_type": "markdown",
   "metadata": {},
   "source": [
    "Note que solo hay una discontinuidad puntual en $P_*^3=P_a^3$, para los demás valores de $P_a$ se tiene:\n",
    "\n",
    "\\begin{align*}\n",
    "C_a &= \\frac{C_I P_a^3} {P_*^3+P_a^3} \\\\\n",
    "({P_*^3+P_a^3}) C_a &= {C_I P_a^3}\\\\\n",
    "P_*^3 C_a &= {C_I P_a^3} - P_a^3 C_a\\\\\n",
    "P_*^3 C_a &= (C_I - C_a) P_a^3 \\\\\n",
    "P_*^3 C_a &= (C_I - C_a) P_a^3 \\\\\n",
    "P_a^3 &= \\frac{P_*^3 C_a}{(C_I - C_a)}  \\\\\n",
    "\\end{align*}"
   ]
  },
  {
   "attachments": {},
   "cell_type": "markdown",
   "metadata": {},
   "source": [
    "\\begin{align*}\n",
    "        V_A C_I + Q C_v = & V_A C_E + Q C_a \\\\\n",
    "        V_A (C_I - C_E) = &  Q (C_a - C_v) \\\\\n",
    "        r (C_I - C_E) = & C_a - C_v \\\\\n",
    "        C_a  =& r C_I + C_V - r C_E \n",
    "\\end{align*}"
   ]
  },
  {
   "attachments": {},
   "cell_type": "markdown",
   "metadata": {},
   "source": [
    "\\begin{align*}\n",
    "        V_A C_I + Q C_v = & V_A C_E + Q C_a \\\\\n",
    "        V_A (C_I - C_E) = &  Q (C_a - C_v) \\\\\n",
    "        r (C_I - C_A) = & C_a - C_v \\\\\n",
    "        r (C_I - P_A/KT) = & C_a - C_v \\\\\n",
    "\n",
    "\n",
    "        C_a  =& r C_I + C_V - r C_E \\\\ \n",
    "        C_a  =& r C_I + C_V - r C_A \\\\\n",
    "        C_a  =& r C_I + C_V - r \\frac{P_A}{KT} \\\\\n",
    "%        P_A^2C_a  =& P_A^2 r C_I +P_A^2 C_V - r \\frac{P_*^3 C_a}{(C_I - C_a)KT} \\\\\n",
    "        C_a  =& r C_I + C_V -\\frac {r P_*}{KT} (\\frac{C_a}{(C_I - C_a)})^\\frac{1}{3}\\\\\n",
    "\\end{align*}"
   ]
  },
  {
   "attachments": {},
   "cell_type": "markdown",
   "metadata": {},
   "source": [
    "Masa molar $M_{O_2} = 32 g/mol$\n",
    "\n",
    "sup densidad $\\rho_{O_2} = 1.3 kg/m^3 = 1.3 g/L$\n",
    "\n",
    "Concentración atm del 21% O2 , es decir:  en 1L de aire existen 210 ml O2\n",
    "\\begin{equation*}\n",
    " C_{O_2} =  0.21*1.3 g / L = 0.21*1.3 /32  mol/L = 0.21*1.3 e3 /32 = 8.5  mmol/L\n",
    "\\end{equation*}\n",
    "\n",
    "\n"
   ]
  },
  {
   "cell_type": "code",
   "execution_count": 108,
   "metadata": {},
   "outputs": [
    {
     "data": {
      "text/plain": [
       "21919.209938671927"
      ]
     },
     "execution_count": 108,
     "metadata": {},
     "output_type": "execute_result"
    }
   ],
   "source": [
    "107*0.03079\n",
    "8.5 *p_KT"
   ]
  },
  {
   "cell_type": "code",
   "execution_count": 151,
   "metadata": {},
   "outputs": [
    {
     "data": {
      "text/plain": [
       "2.5787305810202272"
      ]
     },
     "execution_count": 151,
     "metadata": {},
     "output_type": "execute_result"
    }
   ],
   "source": [
    "14.2*0.231\n",
    "p_KT"
   ]
  },
  {
   "cell_type": "code",
   "execution_count": 152,
   "metadata": {},
   "outputs": [],
   "source": [
    "from scipy.optimize import fsolve\n",
    "\n",
    " \n",
    "p_Na   = 6.02214076*10**23           \n",
    "\n",
    "p_r    = 2                 \n",
    "p_CI   = 100#8.5        #100                     \n",
    "p_Cv   = 23.3#3.3        #23.21\n",
    "p_Px   = 25          \n",
    "p_K    = 1.380649*10**-23\n",
    "p_T    = 310.15                 \n",
    "p_KT   = p_K*p_Na*p_T*10**-3     # 8.314472           \n",
    "# C_a  =& r C_I + C_V - r P_* (\\frac{C_a}{(C_I - C_a)KT})^\\frac{1}{3}\n",
    "f_Ca = lambda Ca : Ca - p_r * p_CI + p_Cv - p_r * p_Px*p_KT**-1 *( Ca /(p_CI -Ca))**(1/3)\n",
    "\n"
   ]
  },
  {
   "cell_type": "code",
   "execution_count": 154,
   "metadata": {},
   "outputs": [
    {
     "name": "stderr",
     "output_type": "stream",
     "text": [
      "C:\\Users\\aleja\\AppData\\Local\\Temp\\ipykernel_13656\\3423600436.py:14: RuntimeWarning: invalid value encountered in power\n",
      "  f_Ca = lambda Ca : Ca - p_r * p_CI + p_Cv - p_r * p_Px*p_KT**-1 *( Ca /(p_CI -Ca))**(1/3)\n"
     ]
    }
   ],
   "source": [
    "z = fsolve(f_Ca,[10])"
   ]
  },
  {
   "cell_type": "code",
   "execution_count": 74,
   "metadata": {},
   "outputs": [
    {
     "name": "stdout",
     "output_type": "stream",
     "text": [
      "8.31446261815324\n"
     ]
    }
   ],
   "source": [
    "print(p_K*p_Na)#z)"
   ]
  },
  {
   "cell_type": "code",
   "execution_count": 143,
   "metadata": {},
   "outputs": [],
   "source": [
    "# f_fn flujo de un gas con eficiencia n\n",
    "\n",
    "p_ro        = p_r\n",
    "p_sigmaCO2     = 0.03079\n",
    "\n",
    "p_EM = p_ro/(p_ro+p_sigmaCO2*p_KT)\n",
    "\n",
    "p_QT = 5 # L/m\n",
    "p_Cvco2 = 23.21\n",
    "p_Pv = p_Cvco2/p_sigmaCO2\n",
    "p_Cico2 = 0\n",
    "p_PI = 0 # pq no hay en el aire \n",
    "\n",
    "f_rn = lambda n : n* p_EM *p_sigmaCO2*p_KT/(1-n*p_EM)\n",
    "f_En = lambda n : f_rn(n) /(f_rn(n) + p_sigmaCO2 *p_KT)\n",
    "f_fn = lambda n : p_sigmaCO2 * (p_PI-p_Pv) *p_QT * f_En(n) \n"
   ]
  },
  {
   "cell_type": "code",
   "execution_count": 144,
   "metadata": {},
   "outputs": [
    {
     "name": "stdout",
     "output_type": "stream",
     "text": [
      "-111.61878370127465 -82.59789993894324 -42.41513780648436\n"
     ]
    }
   ],
   "source": [
    "\n",
    "print ( f_fn(1),\n",
    "        f_fn(0.74),\n",
    "        f_fn(0.38))"
   ]
  },
  {
   "cell_type": "code",
   "execution_count": 145,
   "metadata": {},
   "outputs": [
    {
     "name": "stdout",
     "output_type": "stream",
     "text": [
      "1.9999999999999971 0.19604748611129047 0.04573546125720644\n"
     ]
    }
   ],
   "source": [
    "print(\n",
    "    f_rn(1),\n",
    "    f_rn(0.74),\n",
    "    f_rn(0.38)\n",
    ")"
   ]
  }
 ],
 "metadata": {
  "kernelspec": {
   "display_name": "Python 3",
   "language": "python",
   "name": "python3"
  },
  "language_info": {
   "codemirror_mode": {
    "name": "ipython",
    "version": 3
   },
   "file_extension": ".py",
   "mimetype": "text/x-python",
   "name": "python",
   "nbconvert_exporter": "python",
   "pygments_lexer": "ipython3",
   "version": "3.11.2"
  },
  "orig_nbformat": 4,
  "vscode": {
   "interpreter": {
    "hash": "e734087488f68825f55d31ed21778fb08b12019b290cead284eb4511b04582d8"
   }
  }
 },
 "nbformat": 4,
 "nbformat_minor": 2
}
