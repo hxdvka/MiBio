{
 "cells": [
  {
   "attachments": {},
   "cell_type": "markdown",
   "metadata": {},
   "source": [
    "> 5 supuestos \n",
    "\n",
    "> alveolos en serie\n",
    "\n",
    "> ventilación y perfusión únicos parámetros de control de los alveolos\n"
   ]
  },
  {
   "attachments": {},
   "cell_type": "markdown",
   "metadata": {},
   "source": [
    "calc $f_T$ dado $E = nE_M$"
   ]
  },
  {
   "attachments": {},
   "cell_type": "markdown",
   "metadata": {},
   "source": [
    "\\begin{align*}\n",
    "\n",
    "f&= \\sigma (P_I-P_v) Q_T E  \\\\\n",
    "\n",
    "E_M &= \\frac {r_0}{r_0+\\sigma k T}\n",
    "\n",
    "\n",
    "\\end{align*}"
   ]
  },
  {
   "attachments": {},
   "cell_type": "markdown",
   "metadata": {},
   "source": [
    "Dado que el radio de perfusión es el único parametro de control vamos a suponer que es igual a $r_n$ en todos los alveolos del pulmón para simular la eficiencia dada. Note que aunque no es una suposición realista es suficiente en este caso ya que para la eficiencia total del pulmón es indistinguible un valor promedio que se ajuste de valores individuales que lleven al mismo resultado.\n",
    "\n",
    "Por lo anterior sean $E_n,r_n$ tales que: \n",
    "\n",
    "\\begin{align*}\n",
    "\\frac{E_n}{E_M} &= n ,\\; n\\in(0,1)\\\\\n",
    "E_n&= \\frac{1}{Q_T} \\sum_{i} \\frac{Q_i r_n}{r_n+\\sigma kT} = \\frac{r_n}{r_n+\\sigma kT}  \\\\\n",
    "E_M &= \\frac {r_0}{r_0+\\sigma k T}\n",
    "\\end{align*}\n"
   ]
  },
  {
   "attachments": {},
   "cell_type": "markdown",
   "metadata": {},
   "source": [
    "\\begin{align*}\n",
    "r_n &=  n*E_M(r_n+\\sigma kT) \\\\\n",
    "r_n &= a * r_n + a * b \\\\\n",
    "r_n-a*r_n &= a * b \\\\\n",
    "r_n(1-a) &= a * b \\\\\n",
    "r_n &= \\frac{a * b} {1-a} \\\\\n",
    "r_n &= \\frac{n E_M \\sigma kT} {1-n E_M} \\\\\n",
    "\n",
    "\\end{align*}\n"
   ]
  },
  {
   "attachments": {},
   "cell_type": "markdown",
   "metadata": {},
   "source": [
    "dado lo anterior el flujo neto para un gas $f_n$ con una eficiencia de $n$ es igual a:\n",
    "\\begin{equation*}\n",
    "f_n = \\sigma (P_I-P_v) Q_T E_n \n",
    "\\end{equation*}"
   ]
  },
  {
   "attachments": {},
   "cell_type": "markdown",
   "metadata": {},
   "source": [
    "\\begin{align*}\n",
    "    \\sigma      &=  0.231                   &\\frac{mmol}{L \\cdot kPa}\\\\ \n",
    "                &=  0,03079                  &\\frac{mmol}{L \\cdot mmHg}\\\\ \n",
    "                &=  1,8361x10^{19}           &\\frac{1}{L \\cdot mmHg}   \\\\\n",
    "    C_{I(CO_2)} &=  0                       &\\frac{mmol}{L}    \\\\\n",
    "    T           &=  310.15                  &K    \\\\\n",
    "    K           &=  1,380 649 x 10^{-23}    &\\frac{J}{K}\\\\ \n",
    "                &=  1,0355 x 10 ^{-22}      &\\frac{L \\cdot mmHg}{K }   \\\\\n",
    "    C_v         &=  23.21                   &\\frac{mmol}{L}    \\\\\n",
    "    P_*         &=  25                      &{mmHg}    \\\\\n",
    "    r           &=  2                       &\\frac{L_g}{L_l} \\\\\n",
    "\n",
    "\\end{align*}"
   ]
  },
  {
   "attachments": {},
   "cell_type": "markdown",
   "metadata": {},
   "source": [
    "Note que solo hay una discontinuidad puntual en $P_*^3=P_a^3$, para los demás valores de $P_a$ se tiene:\n",
    "\n",
    "\\begin{align*}\n",
    "C_a &= \\frac{C_I P_a^3} {P_*^3+P_a^3} \\\\\n",
    "({P_*^3+P_a^3}) C_a &= {C_I P_a^3}\\\\\n",
    "P_*^3 C_a &= {C_I P_a^3} - P_a^3 C_a\\\\\n",
    "P_*^3 C_a &= (C_I - C_a) P_a^3 \\\\\n",
    "P_*^3 C_a &= (C_I - C_a) P_a^3 \\\\\n",
    "P_a^3 &= \\frac{P_*^3 C_a}{(C_I - C_a)}  \\\\\n",
    "\\end{align*}"
   ]
  },
  {
   "attachments": {},
   "cell_type": "markdown",
   "metadata": {},
   "source": [
    "Masa molar $M_{O_2} = 32 g/mol$\n",
    "\n",
    "sup densidad $\\rho_{O_2} = 1.3 kg/m^3 = 1.3 g/L$\n",
    "\n",
    "Concentración atm del 21% O2 , es decir:  en 1L de aire existen 210 ml O2\n",
    "\n",
    "> $C_{O_2} 0.21*1.3 g / L = 0.21*1.3 /32  mol/L = 0.21*1.3 e3 /32 = 8.5  mmol/L$\n",
    "\n",
    "\n"
   ]
  },
  {
   "cell_type": "code",
   "execution_count": null,
   "metadata": {},
   "outputs": [],
   "source": [
    "107*0.03079"
   ]
  },
  {
   "cell_type": "code",
   "execution_count": null,
   "metadata": {},
   "outputs": [],
   "source": [
    "14.2*0.231"
   ]
  },
  {
   "cell_type": "code",
   "execution_count": null,
   "metadata": {},
   "outputs": [],
   "source": [
    "print(\"holo\")"
   ]
  }
 ],
 "metadata": {
  "kernelspec": {
   "display_name": "Python 3",
   "language": "python",
   "name": "python3"
  },
  "language_info": {
   "name": "python",
   "version": "3.11.2"
  },
  "orig_nbformat": 4,
  "vscode": {
   "interpreter": {
    "hash": "e734087488f68825f55d31ed21778fb08b12019b290cead284eb4511b04582d8"
   }
  }
 },
 "nbformat": 4,
 "nbformat_minor": 2
}
