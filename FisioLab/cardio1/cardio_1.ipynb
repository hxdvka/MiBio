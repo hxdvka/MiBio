{
 "cells": [
  {
   "cell_type": "code",
   "execution_count": 89,
   "metadata": {},
   "outputs": [],
   "source": [
    "#imports\n",
    "from sympy import symbols, linsolve, Matrix\n",
    "import itertools"
   ]
  },
  {
   "cell_type": "code",
   "execution_count": 3,
   "metadata": {},
   "outputs": [],
   "source": [
    "#symbols\n",
    "p_Rp  , p_Rs  , p_Kl  , p_Kr  = symbols( ' p_Rp  p_Rs  p_Kl  p_Kr ' )\n",
    "p_Csa , p_Csv , p_Cpa , p_Cpv = symbols( ' p_Csa p_Csv p_Cpa p_Cpv' )\n",
    "\n",
    "v_Vsa , v_Vsv , v_Vpa , v_Vpv = symbols( ' v_Vsa v_Vsv v_Vpa v_Vpv' )\n",
    "v_Psa , v_Psv , v_Ppa , v_Ppv = symbols( ' v_Psa v_Psv v_Ppa v_Ppv' )\n",
    "\n",
    "v_Q , p_Vo = symbols( 'v_Q p_Vo' )\n",
    "\n",
    "#param values\n",
    "    #L\n",
    "pval_Vo  = 5    #L\n",
    "    # mmHg / (L*m)\n",
    "pval_Rs  = 17.5 \n",
    "pval_Rp  = 1.79 \n",
    "    #L/(m*mmHg)\n",
    "pval_Kr  = 2.8\n",
    "pval_Kl  = 1.12\n",
    "    #L/mmHg\n",
    "pval_Csa = 0.01\n",
    "pval_Csv = 1.75\n",
    "pval_Cpa = 0.00667\n",
    "pval_Cpv = 0.08"
   ]
  },
  {
   "cell_type": "code",
   "execution_count": 84,
   "metadata": {},
   "outputs": [],
   "source": [
    "p_vars = [ 'Vo' ,  'Rp'  , 'Rs'  , 'Kl'  , 'Kr' , 'Csa' , 'Csv' , 'Cpa' , 'Cpv' ]\n",
    "\n",
    "evx = lambda x: eval (x)\n",
    "params  = [ evx('p_'+x) for x in p_vars]\n",
    "parvals = [ evx('pval_'+x) for x in p_vars]\n",
    "subDict = dict(zip (params , parvals) )\n",
    "\n",
    "v_vars = [v_Vsa , v_Vsv , v_Vpa , v_Vpv, v_Psa , v_Psv , v_Ppa , v_Ppv, v_Q]\n",
    "\n"
   ]
  },
  {
   "cell_type": "code",
   "execution_count": 62,
   "metadata": {},
   "outputs": [],
   "source": [
    "#ecs and substitution\n",
    "eq1 = v_Q/p_Kr              - v_Psv\n",
    "eq2 = v_Q/p_Kl              - v_Ppv\n",
    "eq3 = v_Q/p_Kr + p_Rs * v_Q - v_Psa\n",
    "eq4 = v_Q/p_Kl + p_Rp * v_Q - v_Ppa\n",
    "eq5 = v_Q * p_Csv/p_Kr      - v_Vsv\n",
    "eq6 = v_Q * p_Cpv/p_Kl      - v_Vpv\n",
    "eq7 = v_Q * (p_Csa / p_Kr  + p_Csa * p_Rs ) - v_Vsa\n",
    "eq8 = v_Q * (p_Cpa / p_Kl  + p_Cpa * p_Rp ) - v_Vpa\n",
    "eq9 = v_Vsa + v_Vsv + v_Vpa + v_Vpv - p_Vo\n",
    "\n"
   ]
  },
  {
   "cell_type": "code",
   "execution_count": 73,
   "metadata": {},
   "outputs": [],
   "source": [
    "f_sub = lambda f : f.subs(subDict)\n",
    "\n",
    "ecs = [ eq1 , eq2 , eq3 , eq4 , eq5 , eq6 , eq7 , eq8 , eq9 ]\n",
    "\n",
    "ecs_subs = list(map(f_sub, ecs))\n"
   ]
  },
  {
   "attachments": {},
   "cell_type": "markdown",
   "metadata": {},
   "source": [
    "#### Ejecutar linsolve\n",
    "se pasan el sistema de ecuaciones con las sustituciones (*ecs_subs*) y las variables como símbolos (*v_vars*) y se obtiene una única solución\n"
   ]
  },
  {
   "cell_type": "code",
   "execution_count": 96,
   "metadata": {},
   "outputs": [
    {
     "data": {
      "text/latex": [
       "$\\displaystyle \\left\\{\\left( 0.99995798576527, \\  3.49985295017845, \\  0.100205869750177, \\  0.399983194306108, \\  99.995798576527, \\  1.99991597153054, \\  15.0233687781374, \\  4.99978992882635, \\  5.59976472028551\\right)\\right\\}$"
      ],
      "text/plain": [
       "{(0.99995798576527, 3.49985295017845, 0.100205869750177, 0.399983194306108, 99.995798576527, 1.99991597153054, 15.0233687781374, 4.99978992882635, 5.59976472028551)}"
      ]
     },
     "execution_count": 96,
     "metadata": {},
     "output_type": "execute_result"
    }
   ],
   "source": [
    "#list(zip(itertools.repeat( v_vars) , \n",
    "linsolve(ecs_subs , v_vars)\n",
    "# ))"
   ]
  }
 ],
 "metadata": {
  "kernelspec": {
   "display_name": "base",
   "language": "python",
   "name": "python3"
  },
  "language_info": {
   "codemirror_mode": {
    "name": "ipython",
    "version": 3
   },
   "file_extension": ".py",
   "mimetype": "text/x-python",
   "name": "python",
   "nbconvert_exporter": "python",
   "pygments_lexer": "ipython3",
   "version": "3.9.13"
  },
  "orig_nbformat": 4,
  "vscode": {
   "interpreter": {
    "hash": "6c0453e26b24401ab92fc4c9258d0e6c3ac378e13e0e842060a1489ed820d196"
   }
  }
 },
 "nbformat": 4,
 "nbformat_minor": 2
}
