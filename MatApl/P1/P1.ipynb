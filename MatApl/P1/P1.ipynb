{
 "cells": [
  {
   "cell_type": "markdown",
   "metadata": {},
   "source": [
    "## testing stuff    \n"
   ]
  },
  {
   "cell_type": "code",
   "execution_count": 1,
   "metadata": {},
   "outputs": [],
   "source": [
    "import sympy as sy\n",
    "import numpy as np\n",
    "from IPython.display import display, Markdown ,  Math\n",
    "import pprint as pp\n",
    "import itertools \n",
    "import functools as ft\n",
    "import scipy as sp\n",
    "from matplotlib import pyplot as plt\n",
    "\n",
    "\n",
    "v_VarN = ['S', 'C', 'r_S', 'r_C','alpha_C' , 'alpha_S', 'K' ] \n",
    "v_Syms = sy.symbols(v_VarN)\n",
    "#Syms[s_S , s_C , s_r_S , s_r_C , s_alpha_C , s_alpha_S , s_K] = sy.symbols(Vars)\n",
    "\n",
    "f_dSdt = lambda t, S , C , r_S , r_C , alpha_C , alpha_S , K : r_S * S * (K - S - alpha_C * C) * 1/K\n",
    "f_dCdt = lambda t, S , C , r_S , r_C , alpha_C , alpha_S , K : r_C * C * (K - C - alpha_S * S) * 1/K\n",
    "\n",
    "f_model = lambda t, S , C , r_S , r_C , alpha_C , alpha_S , K : [f_dSdt(t, S , C , r_S , r_C , alpha_C , alpha_S , K) , f_dCdt(t, S , C , r_S , r_C , alpha_C , alpha_S , K)]\n"
   ]
  },
  {
   "cell_type": "code",
   "execution_count": 2,
   "metadata": {},
   "outputs": [],
   "source": [
    "#-> symbolic\n",
    "fs_model = f_model(_,*v_Syms)\n",
    "\n",
    "p_eq = sy.solve(fs_model,v_Syms[0:2])\n",
    "\n",
    "sd_eq = {\n",
    "        v_Syms[0] : p_eq[3][0] , \n",
    "        v_Syms[1] : p_eq[3][1] }\n",
    "\n",
    "ev = sy.Matrix(fs_model).jacobian(v_Syms[0:2]).subs(sd_eq).eigenvals()\n"
   ]
  },
  {
   "cell_type": "code",
   "execution_count": 3,
   "metadata": {},
   "outputs": [
    {
     "name": "stdout",
     "output_type": "stream",
     "text": [
      "\\frac{- \\alpha_{C} r_{S} - \\alpha_{S} r_{C} + r_{C} + r_{S} - \\sqrt{4 \\alpha_{C}^{2} \\alpha_{S}^{2} r_{C} r_{S} - 4 \\alpha_{C}^{2} \\alpha_{S} r_{C} r_{S} + \\alpha_{C}^{2} r_{S}^{2} - 4 \\alpha_{C} \\alpha_{S}^{2} r_{C} r_{S} + 2 \\alpha_{C} \\alpha_{S} r_{C} r_{S} + 2 \\alpha_{C} r_{C} r_{S} - 2 \\alpha_{C} r_{S}^{2} + \\alpha_{S}^{2} r_{C}^{2} - 2 \\alpha_{S} r_{C}^{2} + 2 \\alpha_{S} r_{C} r_{S} + r_{C}^{2} - 2 r_{C} r_{S} + r_{S}^{2}}}{2 \\left(\\alpha_{C} \\alpha_{S} - 1\\right)}\n",
      "\\frac{- \\alpha_{C} r_{S} - \\alpha_{S} r_{C} + r_{C} + r_{S} + \\sqrt{4 \\alpha_{C}^{2} \\alpha_{S}^{2} r_{C} r_{S} - 4 \\alpha_{C}^{2} \\alpha_{S} r_{C} r_{S} + \\alpha_{C}^{2} r_{S}^{2} - 4 \\alpha_{C} \\alpha_{S}^{2} r_{C} r_{S} + 2 \\alpha_{C} \\alpha_{S} r_{C} r_{S} + 2 \\alpha_{C} r_{C} r_{S} - 2 \\alpha_{C} r_{S}^{2} + \\alpha_{S}^{2} r_{C}^{2} - 2 \\alpha_{S} r_{C}^{2} + 2 \\alpha_{S} r_{C} r_{S} + r_{C}^{2} - 2 r_{C} r_{S} + r_{S}^{2}}}{2 \\left(\\alpha_{C} \\alpha_{S} - 1\\right)}\n"
     ]
    },
    {
     "data": {
      "image/png": "[encoded data removed]",
      "text/latex": [
       "$\\displaystyle \\left\\{ - \\frac{\\alpha_{C} r_{S} + \\alpha_{S} r_{C} - r_{C} - r_{S}}{2 \\left(\\alpha_{C} \\alpha_{S} - 1\\right)} - \\frac{\\sqrt{4 \\alpha_{C}^{2} \\alpha_{S}^{2} r_{C} r_{S} - 4 \\alpha_{C}^{2} \\alpha_{S} r_{C} r_{S} + \\alpha_{C}^{2} r_{S}^{2} - 4 \\alpha_{C} \\alpha_{S}^{2} r_{C} r_{S} + 2 \\alpha_{C} \\alpha_{S} r_{C} r_{S} + 2 \\alpha_{C} r_{C} r_{S} - 2 \\alpha_{C} r_{S}^{2} + \\alpha_{S}^{2} r_{C}^{2} - 2 \\alpha_{S} r_{C}^{2} + 2 \\alpha_{S} r_{C} r_{S} + r_{C}^{2} - 2 r_{C} r_{S} + r_{S}^{2}}}{2 \\left(\\alpha_{C} \\alpha_{S} - 1\\right)} : 1, \\  - \\frac{\\alpha_{C} r_{S} + \\alpha_{S} r_{C} - r_{C} - r_{S}}{2 \\left(\\alpha_{C} \\alpha_{S} - 1\\right)} + \\frac{\\sqrt{4 \\alpha_{C}^{2} \\alpha_{S}^{2} r_{C} r_{S} - 4 \\alpha_{C}^{2} \\alpha_{S} r_{C} r_{S} + \\alpha_{C}^{2} r_{S}^{2} - 4 \\alpha_{C} \\alpha_{S}^{2} r_{C} r_{S} + 2 \\alpha_{C} \\alpha_{S} r_{C} r_{S} + 2 \\alpha_{C} r_{C} r_{S} - 2 \\alpha_{C} r_{S}^{2} + \\alpha_{S}^{2} r_{C}^{2} - 2 \\alpha_{S} r_{C}^{2} + 2 \\alpha_{S} r_{C} r_{S} + r_{C}^{2} - 2 r_{C} r_{S} + r_{S}^{2}}}{2 \\left(\\alpha_{C} \\alpha_{S} - 1\\right)} : 1\\right\\}$"
      ],
      "text/plain": [
       "⎧                                     ________________________________________\n",
       "⎪                                    ╱      2    2                2           \n",
       "⎨  α_C⋅r_S + α_S⋅r_C - r_C - r_S   ╲╱  4⋅α_C ⋅α_S ⋅r_C⋅r_S - 4⋅α_C ⋅α_S⋅r_C⋅r_\n",
       "⎪- ───────────────────────────── - ───────────────────────────────────────────\n",
       "⎩         2⋅(α_C⋅α_S - 1)                                                     \n",
       "\n",
       "______________________________________________________________________________\n",
       "       2    2            2                                                    \n",
       "S + α_C ⋅r_S  - 4⋅α_C⋅α_S ⋅r_C⋅r_S + 2⋅α_C⋅α_S⋅r_C⋅r_S + 2⋅α_C⋅r_C⋅r_S - 2⋅α_C\n",
       "──────────────────────────────────────────────────────────────────────────────\n",
       "                                              2⋅(α_C⋅α_S - 1)                 \n",
       "\n",
       "_________________________________________________________________________     \n",
       "    2      2    2            2                      2                  2      \n",
       "⋅r_S  + α_S ⋅r_C  - 2⋅α_S⋅r_C  + 2⋅α_S⋅r_C⋅r_S + r_C  - 2⋅r_C⋅r_S + r_S       \n",
       "─────────────────────────────────────────────────────────────────────────: 1, \n",
       "                                                                              \n",
       "\n",
       "                                     _________________________________________\n",
       "                                    ╱      2    2                2            \n",
       "  α_C⋅r_S + α_S⋅r_C - r_C - r_S   ╲╱  4⋅α_C ⋅α_S ⋅r_C⋅r_S - 4⋅α_C ⋅α_S⋅r_C⋅r_S\n",
       "- ───────────────────────────── + ────────────────────────────────────────────\n",
       "         2⋅(α_C⋅α_S - 1)                                                      \n",
       "\n",
       "______________________________________________________________________________\n",
       "      2    2            2                                                     \n",
       " + α_C ⋅r_S  - 4⋅α_C⋅α_S ⋅r_C⋅r_S + 2⋅α_C⋅α_S⋅r_C⋅r_S + 2⋅α_C⋅r_C⋅r_S - 2⋅α_C⋅\n",
       "──────────────────────────────────────────────────────────────────────────────\n",
       "                                             2⋅(α_C⋅α_S - 1)                  \n",
       "\n",
       "________________________________________________________________________   ⎫\n",
       "   2      2    2            2                      2                  2    ⎪\n",
       "r_S  + α_S ⋅r_C  - 2⋅α_S⋅r_C  + 2⋅α_S⋅r_C⋅r_S + r_C  - 2⋅r_C⋅r_S + r_S     ⎬\n",
       "────────────────────────────────────────────────────────────────────────: 1⎪\n",
       "                                                                           ⎭"
      ]
     },
     "execution_count": 3,
     "metadata": {},
     "output_type": "execute_result"
    }
   ],
   "source": [
    "for p in ev:\n",
    "    sy.init_printing(p.simplify())\n",
    "    print(sy.latex(p.simplify()))\n",
    "\n",
    "ev"
   ]
  },
  {
   "cell_type": "code",
   "execution_count": 4,
   "metadata": {},
   "outputs": [
    {
     "name": "stdout",
     "output_type": "stream",
     "text": [
      "\\frac{- \\alpha_{C} r_{S} - \\alpha_{S} r_{C} + r_{C} + r_{S} - \\sqrt{4 \\alpha_{C}^{2} \\alpha_{S}^{2} r_{C} r_{S} - 4 \\alpha_{C}^{2} \\alpha_{S} r_{C} r_{S} + \\alpha_{C}^{2} r_{S}^{2} - 4 \\alpha_{C} \\alpha_{S}^{2} r_{C} r_{S} + 2 \\alpha_{C} \\alpha_{S} r_{C} r_{S} + 2 \\alpha_{C} r_{C} r_{S} - 2 \\alpha_{C} r_{S}^{2} + \\alpha_{S}^{2} r_{C}^{2} - 2 \\alpha_{S} r_{C}^{2} + 2 \\alpha_{S} r_{C} r_{S} + r_{C}^{2} - 2 r_{C} r_{S} + r_{S}^{2}}}{2 \\left(\\alpha_{C} \\alpha_{S} - 1\\right)}\n",
      "\\frac{- \\alpha_{C} r_{S} - \\alpha_{S} r_{C} + r_{C} + r_{S} + \\sqrt{4 \\alpha_{C}^{2} \\alpha_{S}^{2} r_{C} r_{S} - 4 \\alpha_{C}^{2} \\alpha_{S} r_{C} r_{S} + \\alpha_{C}^{2} r_{S}^{2} - 4 \\alpha_{C} \\alpha_{S}^{2} r_{C} r_{S} + 2 \\alpha_{C} \\alpha_{S} r_{C} r_{S} + 2 \\alpha_{C} r_{C} r_{S} - 2 \\alpha_{C} r_{S}^{2} + \\alpha_{S}^{2} r_{C}^{2} - 2 \\alpha_{S} r_{C}^{2} + 2 \\alpha_{S} r_{C} r_{S} + r_{C}^{2} - 2 r_{C} r_{S} + r_{S}^{2}}}{2 \\left(\\alpha_{C} \\alpha_{S} - 1\\right)}\n"
     ]
    }
   ],
   "source": [
    "for p in ev:\n",
    "    sy.init_printing(p)\n",
    "    print(sy.latex(p.simplify()))"
   ]
  },
  {
   "cell_type": "markdown",
   "metadata": {},
   "source": [
    "## Punto de equilibiro de interés\n",
    "### $\\left( - \\frac{K \\left(alpha_{C} + 1\\right)}{alpha_{C} alpha_{S} - 1}, \\  \\frac{- K alpha_{S} - K}{alpha_{C} alpha_{S} - 1}\\right)$\n",
    "\n",
    "## Autovalores\n",
    "$\\frac{- \\alpha_{C} r_{S} - \\alpha_{S} r_{C} + r_{C} + r_{S} - \\sqrt{4 \\alpha_{C}^{2} \\alpha_{S}^{2} r_{C} r_{S} - 4 \\alpha_{C}^{2} \\alpha_{S} r_{C} r_{S} + \\alpha_{C}^{2} r_{S}^{2} - 4 \\alpha_{C} \\alpha_{S}^{2} r_{C} r_{S} + 2 \\alpha_{C} \\alpha_{S} r_{C} r_{S} + 2 \\alpha_{C} r_{C} r_{S} - 2 \\alpha_{C} r_{S}^{2} + \\alpha_{S}^{2} r_{C}^{2} - 2 \\alpha_{S} r_{C}^{2} + 2 \\alpha_{S} r_{C} r_{S} + r_{C}^{2} - 2 r_{C} r_{S} + r_{S}^{2}}}{2 \\left(\\alpha_{C} \\alpha_{S} - 1\\right)}$\n",
    "$\\frac{- \\alpha_{C} r_{S} - \\alpha_{S} r_{C} + r_{C} + r_{S} + \\sqrt{4 \\alpha_{C}^{2} \\alpha_{S}^{2} r_{C} r_{S} - 4 \\alpha_{C}^{2} \\alpha_{S} r_{C} r_{S} + \\alpha_{C}^{2} r_{S}^{2} - 4 \\alpha_{C} \\alpha_{S}^{2} r_{C} r_{S} + 2 \\alpha_{C} \\alpha_{S} r_{C} r_{S} + 2 \\alpha_{C} r_{C} r_{S} - 2 \\alpha_{C} r_{S}^{2} + \\alpha_{S}^{2} r_{C}^{2} - 2 \\alpha_{S} r_{C}^{2} + 2 \\alpha_{S} r_{C} r_{S} + r_{C}^{2} - 2 r_{C} r_{S} + r_{S}^{2}}}{2 \\left(\\alpha_{C} \\alpha_{S} - 1\\right)}$\n",
    "\n",
    "\n",
    "### simplify\n",
    "$\\frac{- \\alpha_{C} r_{S} - \\alpha_{S} r_{C} + r_{C} + r_{S} - \\sqrt{4 \\alpha_{C}^{2} \\alpha_{S}^{2} r_{C} r_{S} - 4 \\alpha_{C}^{2} \\alpha_{S} r_{C} r_{S} + \\alpha_{C}^{2} r_{S}^{2} - 4 \\alpha_{C} \\alpha_{S}^{2} r_{C} r_{S} + 2 \\alpha_{C} \\alpha_{S} r_{C} r_{S} + 2 \\alpha_{C} r_{C} r_{S} - 2 \\alpha_{C} r_{S}^{2} + \\alpha_{S}^{2} r_{C}^{2} - 2 \\alpha_{S} r_{C}^{2} + 2 \\alpha_{S} r_{C} r_{S} + r_{C}^{2} - 2 r_{C} r_{S} + r_{S}^{2}}}{2 \\left(\\alpha_{C} \\alpha_{S} - 1\\right)}\n",
    "$\n",
    "\n",
    "### determinante\n",
    "$4 \\alpha_{C}^{2} \\alpha_{S}^{2} r_{C} r_{S} - 4 \\alpha_{C}^{2} \\alpha_{S} r_{C} r_{S} + \\alpha_{C}^{2} r_{S}^{2} - 4 \\alpha_{C} \\alpha_{S}^{2} r_{C} r_{S} + 2 \\alpha_{C} \\alpha_{S} r_{C} r_{S} + 2 \\alpha_{C} r_{C} r_{S} - 2 \\alpha_{C} r_{S}^{2} + \\alpha_{S}^{2} r_{C}^{2} - 2 \\alpha_{S} r_{C}^{2} + 2 \\alpha_{S} r_{C} r_{S} + r_{C}^{2} - 2 r_{C} r_{S} + r_{S}^{2} $"
   ]
  },
  {
   "cell_type": "code",
   "execution_count": 5,
   "metadata": {},
   "outputs": [],
   "source": [
    "#find complex solutions \n",
    "ev0 = list(ev.keys())[0]"
   ]
  },
  {
   "cell_type": "code",
   "execution_count": 6,
   "metadata": {},
   "outputs": [],
   "source": [
    "def pre(expr):\n",
    "    print(expr)\n",
    "    for k in  expr.args:\n",
    "        pre(k)"
   ]
  },
  {
   "cell_type": "code",
   "execution_count": 7,
   "metadata": {},
   "outputs": [
    {
     "name": "stdout",
     "output_type": "stream",
     "text": [
      "-(alpha_C*r_S + alpha_S*r_C - r_C - r_S)/(2*(alpha_C*alpha_S - 1)) - sqrt(4*alpha_C**2*alpha_S**2*r_C*r_S - 4*alpha_C**2*alpha_S*r_C*r_S + alpha_C**2*r_S**2 - 4*alpha_C*alpha_S**2*r_C*r_S + 2*alpha_C*alpha_S*r_C*r_S + 2*alpha_C*r_C*r_S - 2*alpha_C*r_S**2 + alpha_S**2*r_C**2 - 2*alpha_S*r_C**2 + 2*alpha_S*r_C*r_S + r_C**2 - 2*r_C*r_S + r_S**2)/(2*(alpha_C*alpha_S - 1))\n",
      "-sqrt(4*alpha_C**2*alpha_S**2*r_C*r_S - 4*alpha_C**2*alpha_S*r_C*r_S + alpha_C**2*r_S**2 - 4*alpha_C*alpha_S**2*r_C*r_S + 2*alpha_C*alpha_S*r_C*r_S + 2*alpha_C*r_C*r_S - 2*alpha_C*r_S**2 + alpha_S**2*r_C**2 - 2*alpha_S*r_C**2 + 2*alpha_S*r_C*r_S + r_C**2 - 2*r_C*r_S + r_S**2)/(2*(alpha_C*alpha_S - 1))\n",
      "-1/2\n",
      "1/(alpha_C*alpha_S - 1)\n",
      "alpha_C*alpha_S - 1\n",
      "-1\n",
      "alpha_C*alpha_S\n",
      "alpha_C\n",
      "alpha_S\n",
      "-1\n",
      "sqrt(4*alpha_C**2*alpha_S**2*r_C*r_S - 4*alpha_C**2*alpha_S*r_C*r_S + alpha_C**2*r_S**2 - 4*alpha_C*alpha_S**2*r_C*r_S + 2*alpha_C*alpha_S*r_C*r_S + 2*alpha_C*r_C*r_S - 2*alpha_C*r_S**2 + alpha_S**2*r_C**2 - 2*alpha_S*r_C**2 + 2*alpha_S*r_C*r_S + r_C**2 - 2*r_C*r_S + r_S**2)\n",
      "4*alpha_C**2*alpha_S**2*r_C*r_S - 4*alpha_C**2*alpha_S*r_C*r_S + alpha_C**2*r_S**2 - 4*alpha_C*alpha_S**2*r_C*r_S + 2*alpha_C*alpha_S*r_C*r_S + 2*alpha_C*r_C*r_S - 2*alpha_C*r_S**2 + alpha_S**2*r_C**2 - 2*alpha_S*r_C**2 + 2*alpha_S*r_C*r_S + r_C**2 - 2*r_C*r_S + r_S**2\n",
      "r_C**2\n",
      "r_C\n",
      "2\n",
      "r_S**2\n",
      "r_S\n",
      "2\n",
      "alpha_C**2*r_S**2\n",
      "alpha_C**2\n",
      "alpha_C\n",
      "2\n",
      "r_S**2\n",
      "r_S\n",
      "2\n",
      "alpha_S**2*r_C**2\n",
      "alpha_S**2\n",
      "alpha_S\n",
      "2\n",
      "r_C**2\n",
      "r_C\n",
      "2\n",
      "-2*alpha_C*r_S**2\n",
      "-2\n",
      "alpha_C\n",
      "r_S**2\n",
      "r_S\n",
      "2\n",
      "-2*alpha_S*r_C**2\n",
      "-2\n",
      "alpha_S\n",
      "r_C**2\n",
      "r_C\n",
      "2\n",
      "-2*r_C*r_S\n",
      "-2\n",
      "r_C\n",
      "r_S\n",
      "2*alpha_C*r_C*r_S\n",
      "2\n",
      "alpha_C\n",
      "r_C\n",
      "r_S\n",
      "2*alpha_S*r_C*r_S\n",
      "2\n",
      "alpha_S\n",
      "r_C\n",
      "r_S\n",
      "-4*alpha_C*alpha_S**2*r_C*r_S\n",
      "-4\n",
      "alpha_C\n",
      "r_C\n",
      "r_S\n",
      "alpha_S**2\n",
      "alpha_S\n",
      "2\n",
      "-4*alpha_C**2*alpha_S*r_C*r_S\n",
      "-4\n",
      "alpha_S\n",
      "r_C\n",
      "r_S\n",
      "alpha_C**2\n",
      "alpha_C\n",
      "2\n",
      "2*alpha_C*alpha_S*r_C*r_S\n",
      "2\n",
      "alpha_C\n",
      "alpha_S\n",
      "r_C\n",
      "r_S\n",
      "4*alpha_C**2*alpha_S**2*r_C*r_S\n",
      "4\n",
      "r_C\n",
      "r_S\n",
      "alpha_C**2\n",
      "alpha_C\n",
      "2\n",
      "alpha_S**2\n",
      "alpha_S\n",
      "2\n",
      "1/2\n",
      "-(alpha_C*r_S + alpha_S*r_C - r_C - r_S)/(2*(alpha_C*alpha_S - 1))\n",
      "-1/2\n",
      "1/(alpha_C*alpha_S - 1)\n",
      "alpha_C*alpha_S - 1\n",
      "-1\n",
      "alpha_C*alpha_S\n",
      "alpha_C\n",
      "alpha_S\n",
      "-1\n",
      "alpha_C*r_S + alpha_S*r_C - r_C - r_S\n",
      "-r_C\n",
      "-1\n",
      "r_C\n",
      "-r_S\n",
      "-1\n",
      "r_S\n",
      "alpha_C*r_S\n",
      "alpha_C\n",
      "r_S\n",
      "alpha_S*r_C\n",
      "alpha_S\n",
      "r_C\n"
     ]
    }
   ],
   "source": [
    "mem = 0\n",
    "pre(ev0)\n",
    "#ev0\n"
   ]
  },
  {
   "cell_type": "code",
   "execution_count": 41,
   "metadata": {},
   "outputs": [],
   "source": [
    "#estabilidad\n",
    "# P polinomio cuadrático autoval p_eq^4\n",
    "#b^2 > disc(P) ?\n",
    "\n",
    "b2 = sy.parse_expr(\"(alpha_C*r_S + alpha_S*r_C - r_C - r_S)\")\n",
    "disc = sy.parse_expr( \"4*alpha_C**2*alpha_S**2*r_C*r_S - 4*alpha_C**2*alpha_S*r_C*r_S + alpha_C**2*r_S**2 - 4*alpha_C*alpha_S**2*r_C*r_S + 2*alpha_C*alpha_S*r_C*r_S + 2*alpha_C*r_C*r_S - 2*alpha_C*r_S**2 + alpha_S**2*r_C**2 - 2*alpha_S*r_C**2 + 2*alpha_S*r_C*r_S + r_C**2 - 2*r_C*r_S + r_S**2\")\n",
    "#eq = sy.Equality(b2**2-disc)"
   ]
  },
  {
   "cell_type": "code",
   "execution_count": 44,
   "metadata": {},
   "outputs": [
    {
     "data": {
      "image/png": "[encoded data removed]",
      "text/latex": [
       "$\\displaystyle - 4 \\alpha_{C}^{2} \\alpha_{S}^{2} r_{C} r_{S} + 4 \\alpha_{C}^{2} \\alpha_{S} r_{C} r_{S} - \\alpha_{C}^{2} r_{S}^{2} + 4 \\alpha_{C} \\alpha_{S}^{2} r_{C} r_{S} - 2 \\alpha_{C} \\alpha_{S} r_{C} r_{S} - 2 \\alpha_{C} r_{C} r_{S} + 2 \\alpha_{C} r_{S}^{2} - \\alpha_{S}^{2} r_{C}^{2} + 2 \\alpha_{S} r_{C}^{2} - 2 \\alpha_{S} r_{C} r_{S} - r_{C}^{2} + 2 r_{C} r_{S} - r_{S}^{2} + \\left(\\alpha_{C} r_{S} + \\alpha_{S} r_{C} - r_{C} - r_{S}\\right)^{2}$"
      ],
      "text/plain": [
       "       2    2                2                  2    2            2           \n",
       "- 4⋅α_C ⋅α_S ⋅r_C⋅r_S + 4⋅α_C ⋅α_S⋅r_C⋅r_S - α_C ⋅r_S  + 4⋅α_C⋅α_S ⋅r_C⋅r_S - \n",
       "\n",
       "                                             2      2    2            2       \n",
       "2⋅α_C⋅α_S⋅r_C⋅r_S - 2⋅α_C⋅r_C⋅r_S + 2⋅α_C⋅r_S  - α_S ⋅r_C  + 2⋅α_S⋅r_C  - 2⋅α_\n",
       "\n",
       "               2                  2                                  2\n",
       "S⋅r_C⋅r_S - r_C  + 2⋅r_C⋅r_S - r_S  + (α_C⋅r_S + α_S⋅r_C - r_C - r_S) "
      ]
     },
     "metadata": {},
     "output_type": "display_data"
    },
    {
     "data": {
      "image/png": "[encoded data removed]",
      "text/latex": [
       "$\\displaystyle 4 r_{C} r_{S} \\left(- \\alpha_{C}^{2} \\alpha_{S}^{2} + \\alpha_{C}^{2} \\alpha_{S} + \\alpha_{C} \\alpha_{S}^{2} - \\alpha_{C} - \\alpha_{S} + 1\\right)$"
      ],
      "text/plain": [
       "          ⎛     2    2      2              2                ⎞\n",
       "4⋅r_C⋅r_S⋅⎝- α_C ⋅α_S  + α_C ⋅α_S + α_C⋅α_S  - α_C - α_S + 1⎠"
      ]
     },
     "metadata": {},
     "output_type": "display_data"
    },
    {
     "name": "stdout",
     "output_type": "stream",
     "text": [
      "4*r_C*r_S*(-alpha_C**2*alpha_S**2 + alpha_C**2*alpha_S + alpha_C*alpha_S**2 - alpha_C - alpha_S + 1)\n"
     ]
    }
   ],
   "source": [
    "eqtest = b2**2-disc\n",
    "sy.init_printing(eqtest)\n",
    "display(eqtest)\n",
    "display(eqtest.simplify())\n",
    "print((eqtest.simplify()))\n"
   ]
  },
  {
   "cell_type": "code",
   "execution_count": 8,
   "metadata": {},
   "outputs": [],
   "source": [
    "#discriminante\n",
    "det = sy.parse_expr( \"4*alpha_C**2*alpha_S**2*r_C*r_S - 4*alpha_C**2*alpha_S*r_C*r_S + alpha_C**2*r_S**2 - 4*alpha_C*alpha_S**2*r_C*r_S + 2*alpha_C*alpha_S*r_C*r_S + 2*alpha_C*r_C*r_S - 2*alpha_C*r_S**2 + alpha_S**2*r_C**2 - 2*alpha_S*r_C**2 + 2*alpha_S*r_C*r_S + r_C**2 - 2*r_C*r_S + r_S**2\")"
   ]
  },
  {
   "cell_type": "code",
   "execution_count": 9,
   "metadata": {},
   "outputs": [
    {
     "name": "stdout",
     "output_type": "stream",
     "text": [
      "Determinante: 3.06250000000000\n"
     ]
    }
   ],
   "source": [
    "sd_det = {\n",
    "    v_Syms[2] : 2.00        ,   # r_S\n",
    "    v_Syms[3] : 2.50        ,   # r_C\n",
    "    v_Syms[4] : 1.00        ,   # alpha_S\n",
    "    v_Syms[5] : 0.30        ,   # alpha_C\n",
    "    v_Syms[6] : 3000        ,   # K\n",
    "}\n",
    "print(\"Determinante:\", det.subs(sd_det))"
   ]
  },
  {
   "cell_type": "markdown",
   "metadata": {},
   "source": [
    "- alpha_C**2*alpha_S**2 \n",
    "- alpha_C \n",
    "- alpha_S \n",
    "+ alpha_C**2*alpha_S \n",
    "+ alpha_C*alpha_S**2 \n",
    "+ 1"
   ]
  },
  {
   "cell_type": "markdown",
   "metadata": {},
   "source": [
    "$\\frac{1}{K}(r_S S - r_S S^2 - r_S\\alpha_C S  C  )$\n",
    "\n",
    "$\\frac{1}{K}(r_C C - r_C C^2 - r_C\\alpha_S C  S  )$"
   ]
  },
  {
   "cell_type": "markdown",
   "metadata": {},
   "source": [
    "## Simulación"
   ]
  },
  {
   "cell_type": "code",
   "execution_count": 73,
   "metadata": {},
   "outputs": [],
   "source": [
    "from ipywidgets import interact, interactive, fixed, interact_manual\n",
    "import ipywidgets as widgets"
   ]
  },
  {
   "cell_type": "code",
   "execution_count": 90,
   "metadata": {},
   "outputs": [
    {
     "data": {
      "application/vnd.jupyter.widget-view+json": {
       "model_id": "f98bf02f394b405face62a0c996da226",
       "version_major": 2,
       "version_minor": 0
      },
      "text/plain": [
       "interactive(children=(FloatSlider(value=2.5, description='p_rs', max=10.0, min=-5.0), FloatSlider(value=2.5, d…"
      ]
     },
     "metadata": {},
     "output_type": "display_data"
    }
   ],
   "source": [
    "#widgetable\n",
    "#f_model = lambda t, S , C , r_S , r_C , alpha_C , alpha_S , K \n",
    "@interact(\n",
    "    p_rs =(-5.0,10) ,\n",
    "    p_rc =(-5.0,10) ,\n",
    "    p_as =(-1.0,2)  ,\n",
    "    p_ac =(-1.0,2) )\n",
    "def sim( p_rs , p_rc , p_as , p_ac ):\n",
    "    sd_sim = {\n",
    "        'r_S'           : p_rs        ,   # r_S       (-5,10)\n",
    "        'r_C'           : p_rc        ,   # r_C       (-5,10)\n",
    "        'alpha_C'       : p_ac        ,   # alpha_C   (-1,2)\n",
    "        'alpha_S'       : p_as        ,   # alpha_S   (-1,2)\n",
    "        'K' : 5000        ,   # K     5000\n",
    "    }\n",
    "    fe_model = lambda t , P : ft.partial(f_model,**sd_sim)(t,P[0],P[1])\n",
    "    plData= sp.integrate.solve_ivp(fe_model,(0,600), (100,10))\n",
    "    plt.plot(plData.t , plData.y[0] , label= 'S')\n",
    "    plt.plot(plData.t , plData.y[1] , label= 'C')"
   ]
  },
  {
   "cell_type": "code",
   "execution_count": 81,
   "metadata": {},
   "outputs": [
    {
     "data": {
      "text/plain": [
       "[<matplotlib.lines.Line2D at 0x27fba62ec90>]"
      ]
     },
     "execution_count": 81,
     "metadata": {},
     "output_type": "execute_result"
    },
    {
     "data": {
      "image/png": "[encoded data removed]",
      "text/plain": [
       "<Figure size 640x480 with 1 Axes>"
      ]
     },
     "metadata": {},
     "output_type": "display_data"
    }
   ],
   "source": [
    "sd_sim = {\n",
    "        \"r_S\" : 2.00        ,   # r_S   -5,10\n",
    "        \"r_C\" : 2.50        ,   # r_C   -5,10\n",
    "        \"alpha_S\" : 1.00        ,   # alpha_S   -1,2\n",
    "        \"alpha_C\" : 0.30        ,   # alpha_C   -1,2\n",
    "        \"K\" : 5000        ,   # K     5000\n",
    "    }\n",
    "fe_model = lambda t , P : ft.partial(f_model,**sd_sim)(t,P[0],P[1])\n",
    "\n",
    "plData = sp.integrate.solve_ivp(fe_model,(0,600) , (100,10) )\n",
    "plt.plot(plData.t,plData.y[0])\n",
    "plt.plot(plData.t,plData.y[1])"
   ]
  }
 ],
 "metadata": {
  "kernelspec": {
   "display_name": "Python 3",
   "language": "python",
   "name": "python3"
  },
  "language_info": {
   "codemirror_mode": {
    "name": "ipython",
    "version": 3
   },
   "file_extension": ".py",
   "mimetype": "text/x-python",
   "name": "python",
   "nbconvert_exporter": "python",
   "pygments_lexer": "ipython3",
   "version": "3.11.2"
  },
  "orig_nbformat": 4
 },
 "nbformat": 4,
 "nbformat_minor": 2
}
