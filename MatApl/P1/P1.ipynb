{
 "cells": [
  {
   "cell_type": "markdown",
   "metadata": {},
   "source": [
    "## testing stuff    \n"
   ]
  },
  {
   "cell_type": "code",
   "execution_count": 1,
   "metadata": {},
   "outputs": [],
   "source": [
    "import sympy as sy\n",
    "import numpy as np\n",
    "from IPython.display import display, Markdown ,  Math\n",
    "import pprint as pp\n",
    "import itertools \n",
    "import functools as ft\n",
    "import scipy as sp\n",
    "from matplotlib import pyplot as plt\n",
    "\n",
    "\n",
    "v_VarN = ['S', 'C', 'r_S', 'r_C','alpha_C' , 'alpha_S', 'K' ] \n",
    "v_Syms = sy.symbols(v_VarN)\n",
    "#Syms[s_S , s_C , s_r_S , s_r_C , s_alpha_C , s_alpha_S , s_K] = sy.symbols(Vars)\n",
    "\n",
    "f_dSdt = lambda t, S , C , r_S , r_C , alpha_C , alpha_S , K : r_S * S * (K - S - alpha_C * C) * 1/K\n",
    "f_dCdt = lambda t, S , C , r_S , r_C , alpha_C , alpha_S , K : r_C * C * (K - C - alpha_S * S) * 1/K\n",
    "\n",
    "f_model = lambda t, S , C , r_S , r_C , alpha_C , alpha_S , K : [f_dSdt(t, S , C , r_S , r_C , alpha_C , alpha_S , K) , f_dCdt(t, S , C , r_S , r_C , alpha_C , alpha_S , K)]\n"
   ]
  },
  {
   "cell_type": "code",
   "execution_count": 2,
   "metadata": {},
   "outputs": [],
   "source": [
    "#-> symbolic\n",
    "fs_model = f_model(_,*v_Syms)\n",
    "\n",
    "p_eq = sy.solve(fs_model,v_Syms[0:2])\n",
    "\n",
    "sd_eq = {\n",
    "        v_Syms[0] : p_eq[3][0] , \n",
    "        v_Syms[1] : p_eq[3][1] }\n",
    "\n",
    "ev = sy.Matrix(fs_model).jacobian(v_Syms[0:2]).subs(sd_eq).eigenvals()\n"
   ]
  },
  {
   "cell_type": "code",
   "execution_count": 3,
   "metadata": {},
   "outputs": [
    {
     "name": "stdout",
     "output_type": "stream",
     "text": [
      "- \\frac{\\alpha_{C} r_{S} + \\alpha_{S} r_{C} - r_{C} - r_{S}}{2 \\left(\\alpha_{C} \\alpha_{S} - 1\\right)} - \\frac{\\sqrt{4 \\alpha_{C}^{2} \\alpha_{S}^{2} r_{C} r_{S} - 4 \\alpha_{C}^{2} \\alpha_{S} r_{C} r_{S} + \\alpha_{C}^{2} r_{S}^{2} - 4 \\alpha_{C} \\alpha_{S}^{2} r_{C} r_{S} + 2 \\alpha_{C} \\alpha_{S} r_{C} r_{S} + 2 \\alpha_{C} r_{C} r_{S} - 2 \\alpha_{C} r_{S}^{2} + \\alpha_{S}^{2} r_{C}^{2} - 2 \\alpha_{S} r_{C}^{2} + 2 \\alpha_{S} r_{C} r_{S} + r_{C}^{2} - 2 r_{C} r_{S} + r_{S}^{2}}}{2 \\left(\\alpha_{C} \\alpha_{S} - 1\\right)}\n",
      "- \\frac{\\alpha_{C} r_{S} + \\alpha_{S} r_{C} - r_{C} - r_{S}}{2 \\left(\\alpha_{C} \\alpha_{S} - 1\\right)} + \\frac{\\sqrt{4 \\alpha_{C}^{2} \\alpha_{S}^{2} r_{C} r_{S} - 4 \\alpha_{C}^{2} \\alpha_{S} r_{C} r_{S} + \\alpha_{C}^{2} r_{S}^{2} - 4 \\alpha_{C} \\alpha_{S}^{2} r_{C} r_{S} + 2 \\alpha_{C} \\alpha_{S} r_{C} r_{S} + 2 \\alpha_{C} r_{C} r_{S} - 2 \\alpha_{C} r_{S}^{2} + \\alpha_{S}^{2} r_{C}^{2} - 2 \\alpha_{S} r_{C}^{2} + 2 \\alpha_{S} r_{C} r_{S} + r_{C}^{2} - 2 r_{C} r_{S} + r_{S}^{2}}}{2 \\left(\\alpha_{C} \\alpha_{S} - 1\\right)}\n"
     ]
    },
    {
     "data": {
      "image/png": "[encoded data removed]",
      "text/latex": [
       "$\\displaystyle \\left\\{ - \\frac{\\alpha_{C} r_{S} + \\alpha_{S} r_{C} - r_{C} - r_{S}}{2 \\left(\\alpha_{C} \\alpha_{S} - 1\\right)} - \\frac{\\sqrt{4 \\alpha_{C}^{2} \\alpha_{S}^{2} r_{C} r_{S} - 4 \\alpha_{C}^{2} \\alpha_{S} r_{C} r_{S} + \\alpha_{C}^{2} r_{S}^{2} - 4 \\alpha_{C} \\alpha_{S}^{2} r_{C} r_{S} + 2 \\alpha_{C} \\alpha_{S} r_{C} r_{S} + 2 \\alpha_{C} r_{C} r_{S} - 2 \\alpha_{C} r_{S}^{2} + \\alpha_{S}^{2} r_{C}^{2} - 2 \\alpha_{S} r_{C}^{2} + 2 \\alpha_{S} r_{C} r_{S} + r_{C}^{2} - 2 r_{C} r_{S} + r_{S}^{2}}}{2 \\left(\\alpha_{C} \\alpha_{S} - 1\\right)} : 1, \\  - \\frac{\\alpha_{C} r_{S} + \\alpha_{S} r_{C} - r_{C} - r_{S}}{2 \\left(\\alpha_{C} \\alpha_{S} - 1\\right)} + \\frac{\\sqrt{4 \\alpha_{C}^{2} \\alpha_{S}^{2} r_{C} r_{S} - 4 \\alpha_{C}^{2} \\alpha_{S} r_{C} r_{S} + \\alpha_{C}^{2} r_{S}^{2} - 4 \\alpha_{C} \\alpha_{S}^{2} r_{C} r_{S} + 2 \\alpha_{C} \\alpha_{S} r_{C} r_{S} + 2 \\alpha_{C} r_{C} r_{S} - 2 \\alpha_{C} r_{S}^{2} + \\alpha_{S}^{2} r_{C}^{2} - 2 \\alpha_{S} r_{C}^{2} + 2 \\alpha_{S} r_{C} r_{S} + r_{C}^{2} - 2 r_{C} r_{S} + r_{S}^{2}}}{2 \\left(\\alpha_{C} \\alpha_{S} - 1\\right)} : 1\\right\\}$"
      ],
      "text/plain": [
       "⎧                                     ________________________________________\n",
       "⎪                                    ╱      2    2                2           \n",
       "⎨  α_C⋅r_S + α_S⋅r_C - r_C - r_S   ╲╱  4⋅α_C ⋅α_S ⋅r_C⋅r_S - 4⋅α_C ⋅α_S⋅r_C⋅r_\n",
       "⎪- ───────────────────────────── - ───────────────────────────────────────────\n",
       "⎩         2⋅(α_C⋅α_S - 1)                                                     \n",
       "\n",
       "______________________________________________________________________________\n",
       "       2    2            2                                                    \n",
       "S + α_C ⋅r_S  - 4⋅α_C⋅α_S ⋅r_C⋅r_S + 2⋅α_C⋅α_S⋅r_C⋅r_S + 2⋅α_C⋅r_C⋅r_S - 2⋅α_C\n",
       "──────────────────────────────────────────────────────────────────────────────\n",
       "                                              2⋅(α_C⋅α_S - 1)                 \n",
       "\n",
       "_________________________________________________________________________     \n",
       "    2      2    2            2                      2                  2      \n",
       "⋅r_S  + α_S ⋅r_C  - 2⋅α_S⋅r_C  + 2⋅α_S⋅r_C⋅r_S + r_C  - 2⋅r_C⋅r_S + r_S       \n",
       "─────────────────────────────────────────────────────────────────────────: 1, \n",
       "                                                                              \n",
       "\n",
       "                                     _________________________________________\n",
       "                                    ╱      2    2                2            \n",
       "  α_C⋅r_S + α_S⋅r_C - r_C - r_S   ╲╱  4⋅α_C ⋅α_S ⋅r_C⋅r_S - 4⋅α_C ⋅α_S⋅r_C⋅r_S\n",
       "- ───────────────────────────── + ────────────────────────────────────────────\n",
       "         2⋅(α_C⋅α_S - 1)                                                      \n",
       "\n",
       "______________________________________________________________________________\n",
       "      2    2            2                                                     \n",
       " + α_C ⋅r_S  - 4⋅α_C⋅α_S ⋅r_C⋅r_S + 2⋅α_C⋅α_S⋅r_C⋅r_S + 2⋅α_C⋅r_C⋅r_S - 2⋅α_C⋅\n",
       "──────────────────────────────────────────────────────────────────────────────\n",
       "                                             2⋅(α_C⋅α_S - 1)                  \n",
       "\n",
       "________________________________________________________________________   ⎫\n",
       "   2      2    2            2                      2                  2    ⎪\n",
       "r_S  + α_S ⋅r_C  - 2⋅α_S⋅r_C  + 2⋅α_S⋅r_C⋅r_S + r_C  - 2⋅r_C⋅r_S + r_S     ⎬\n",
       "────────────────────────────────────────────────────────────────────────: 1⎪\n",
       "                                                                           ⎭"
      ]
     },
     "execution_count": 3,
     "metadata": {},
     "output_type": "execute_result"
    }
   ],
   "source": [
    "for p in ev:\n",
    "    sy.init_printing(p)\n",
    "    print(sy.latex(p))\n",
    "\n",
    "ev"
   ]
  },
  {
   "cell_type": "code",
   "execution_count": 4,
   "metadata": {},
   "outputs": [
    {
     "name": "stdout",
     "output_type": "stream",
     "text": [
      "\\frac{- \\alpha_{C} r_{S} - \\alpha_{S} r_{C} + r_{C} + r_{S} - \\sqrt{4 \\alpha_{C}^{2} \\alpha_{S}^{2} r_{C} r_{S} - 4 \\alpha_{C}^{2} \\alpha_{S} r_{C} r_{S} + \\alpha_{C}^{2} r_{S}^{2} - 4 \\alpha_{C} \\alpha_{S}^{2} r_{C} r_{S} + 2 \\alpha_{C} \\alpha_{S} r_{C} r_{S} + 2 \\alpha_{C} r_{C} r_{S} - 2 \\alpha_{C} r_{S}^{2} + \\alpha_{S}^{2} r_{C}^{2} - 2 \\alpha_{S} r_{C}^{2} + 2 \\alpha_{S} r_{C} r_{S} + r_{C}^{2} - 2 r_{C} r_{S} + r_{S}^{2}}}{2 \\left(\\alpha_{C} \\alpha_{S} - 1\\right)}\n",
      "\\frac{- \\alpha_{C} r_{S} - \\alpha_{S} r_{C} + r_{C} + r_{S} + \\sqrt{4 \\alpha_{C}^{2} \\alpha_{S}^{2} r_{C} r_{S} - 4 \\alpha_{C}^{2} \\alpha_{S} r_{C} r_{S} + \\alpha_{C}^{2} r_{S}^{2} - 4 \\alpha_{C} \\alpha_{S}^{2} r_{C} r_{S} + 2 \\alpha_{C} \\alpha_{S} r_{C} r_{S} + 2 \\alpha_{C} r_{C} r_{S} - 2 \\alpha_{C} r_{S}^{2} + \\alpha_{S}^{2} r_{C}^{2} - 2 \\alpha_{S} r_{C}^{2} + 2 \\alpha_{S} r_{C} r_{S} + r_{C}^{2} - 2 r_{C} r_{S} + r_{S}^{2}}}{2 \\left(\\alpha_{C} \\alpha_{S} - 1\\right)}\n"
     ]
    }
   ],
   "source": [
    "for p in ev:\n",
    "    sy.init_printing(p)\n",
    "    print(sy.latex(p.simplify()))"
   ]
  },
  {
   "cell_type": "markdown",
   "metadata": {},
   "source": [
    "## Punto de equilibiro de interés\n",
    "### $\\left( - \\frac{K \\left(alpha_{C} + 1\\right)}{alpha_{C} alpha_{S} - 1}, \\  \\frac{- K alpha_{S} - K}{alpha_{C} alpha_{S} - 1}\\right)$\n",
    "\n",
    "## Autovalores\n",
    "$\\frac{- \\alpha_{C} r_{S} - \\alpha_{S} r_{C} + r_{C} + r_{S} - \\sqrt{4 \\alpha_{C}^{2} \\alpha_{S}^{2} r_{C} r_{S} - 4 \\alpha_{C}^{2} \\alpha_{S} r_{C} r_{S} + \\alpha_{C}^{2} r_{S}^{2} - 4 \\alpha_{C} \\alpha_{S}^{2} r_{C} r_{S} + 2 \\alpha_{C} \\alpha_{S} r_{C} r_{S} + 2 \\alpha_{C} r_{C} r_{S} - 2 \\alpha_{C} r_{S}^{2} + \\alpha_{S}^{2} r_{C}^{2} - 2 \\alpha_{S} r_{C}^{2} + 2 \\alpha_{S} r_{C} r_{S} + r_{C}^{2} - 2 r_{C} r_{S} + r_{S}^{2}}}{2 \\left(\\alpha_{C} \\alpha_{S} - 1\\right)}$\n",
    "$\\frac{- \\alpha_{C} r_{S} - \\alpha_{S} r_{C} + r_{C} + r_{S} + \\sqrt{4 \\alpha_{C}^{2} \\alpha_{S}^{2} r_{C} r_{S} - 4 \\alpha_{C}^{2} \\alpha_{S} r_{C} r_{S} + \\alpha_{C}^{2} r_{S}^{2} - 4 \\alpha_{C} \\alpha_{S}^{2} r_{C} r_{S} + 2 \\alpha_{C} \\alpha_{S} r_{C} r_{S} + 2 \\alpha_{C} r_{C} r_{S} - 2 \\alpha_{C} r_{S}^{2} + \\alpha_{S}^{2} r_{C}^{2} - 2 \\alpha_{S} r_{C}^{2} + 2 \\alpha_{S} r_{C} r_{S} + r_{C}^{2} - 2 r_{C} r_{S} + r_{S}^{2}}}{2 \\left(\\alpha_{C} \\alpha_{S} - 1\\right)}$\n",
    "\n",
    "### determinante\n",
    "$4 \\alpha_{C}^{2} \\alpha_{S}^{2} r_{C} r_{S} - 4 \\alpha_{C}^{2} \\alpha_{S} r_{C} r_{S} + \\alpha_{C}^{2} r_{S}^{2} - 4 \\alpha_{C} \\alpha_{S}^{2} r_{C} r_{S} + 2 \\alpha_{C} \\alpha_{S} r_{C} r_{S} + 2 \\alpha_{C} r_{C} r_{S} - 2 \\alpha_{C} r_{S}^{2} + \\alpha_{S}^{2} r_{C}^{2} - 2 \\alpha_{S} r_{C}^{2} + 2 \\alpha_{S} r_{C} r_{S} + r_{C}^{2} - 2 r_{C} r_{S} + r_{S}^{2} $"
   ]
  },
  {
   "cell_type": "code",
   "execution_count": 5,
   "metadata": {},
   "outputs": [],
   "source": [
    "#find complex solutions \n",
    "ev0 = list(ev.keys())[0]"
   ]
  },
  {
   "cell_type": "code",
   "execution_count": 6,
   "metadata": {},
   "outputs": [],
   "source": [
    "def pre(expr):\n",
    "    print(expr)\n",
    "    for k in  expr.args:\n",
    "        pre(k)"
   ]
  },
  {
   "cell_type": "code",
   "execution_count": 7,
   "metadata": {},
   "outputs": [
    {
     "name": "stdout",
     "output_type": "stream",
     "text": [
      "-(alpha_C*r_S + alpha_S*r_C - r_C - r_S)/(2*(alpha_C*alpha_S - 1)) - sqrt(4*alpha_C**2*alpha_S**2*r_C*r_S - 4*alpha_C**2*alpha_S*r_C*r_S + alpha_C**2*r_S**2 - 4*alpha_C*alpha_S**2*r_C*r_S + 2*alpha_C*alpha_S*r_C*r_S + 2*alpha_C*r_C*r_S - 2*alpha_C*r_S**2 + alpha_S**2*r_C**2 - 2*alpha_S*r_C**2 + 2*alpha_S*r_C*r_S + r_C**2 - 2*r_C*r_S + r_S**2)/(2*(alpha_C*alpha_S - 1))\n",
      "-sqrt(4*alpha_C**2*alpha_S**2*r_C*r_S - 4*alpha_C**2*alpha_S*r_C*r_S + alpha_C**2*r_S**2 - 4*alpha_C*alpha_S**2*r_C*r_S + 2*alpha_C*alpha_S*r_C*r_S + 2*alpha_C*r_C*r_S - 2*alpha_C*r_S**2 + alpha_S**2*r_C**2 - 2*alpha_S*r_C**2 + 2*alpha_S*r_C*r_S + r_C**2 - 2*r_C*r_S + r_S**2)/(2*(alpha_C*alpha_S - 1))\n",
      "-1/2\n",
      "1/(alpha_C*alpha_S - 1)\n",
      "alpha_C*alpha_S - 1\n",
      "-1\n",
      "alpha_C*alpha_S\n",
      "alpha_C\n",
      "alpha_S\n",
      "-1\n",
      "sqrt(4*alpha_C**2*alpha_S**2*r_C*r_S - 4*alpha_C**2*alpha_S*r_C*r_S + alpha_C**2*r_S**2 - 4*alpha_C*alpha_S**2*r_C*r_S + 2*alpha_C*alpha_S*r_C*r_S + 2*alpha_C*r_C*r_S - 2*alpha_C*r_S**2 + alpha_S**2*r_C**2 - 2*alpha_S*r_C**2 + 2*alpha_S*r_C*r_S + r_C**2 - 2*r_C*r_S + r_S**2)\n",
      "4*alpha_C**2*alpha_S**2*r_C*r_S - 4*alpha_C**2*alpha_S*r_C*r_S + alpha_C**2*r_S**2 - 4*alpha_C*alpha_S**2*r_C*r_S + 2*alpha_C*alpha_S*r_C*r_S + 2*alpha_C*r_C*r_S - 2*alpha_C*r_S**2 + alpha_S**2*r_C**2 - 2*alpha_S*r_C**2 + 2*alpha_S*r_C*r_S + r_C**2 - 2*r_C*r_S + r_S**2\n",
      "r_C**2\n",
      "r_C\n",
      "2\n",
      "r_S**2\n",
      "r_S\n",
      "2\n",
      "alpha_C**2*r_S**2\n",
      "alpha_C**2\n",
      "alpha_C\n",
      "2\n",
      "r_S**2\n",
      "r_S\n",
      "2\n",
      "alpha_S**2*r_C**2\n",
      "alpha_S**2\n",
      "alpha_S\n",
      "2\n",
      "r_C**2\n",
      "r_C\n",
      "2\n",
      "-2*alpha_C*r_S**2\n",
      "-2\n",
      "alpha_C\n",
      "r_S**2\n",
      "r_S\n",
      "2\n",
      "-2*alpha_S*r_C**2\n",
      "-2\n",
      "alpha_S\n",
      "r_C**2\n",
      "r_C\n",
      "2\n",
      "-2*r_C*r_S\n",
      "-2\n",
      "r_C\n",
      "r_S\n",
      "2*alpha_C*r_C*r_S\n",
      "2\n",
      "alpha_C\n",
      "r_C\n",
      "r_S\n",
      "2*alpha_S*r_C*r_S\n",
      "2\n",
      "alpha_S\n",
      "r_C\n",
      "r_S\n",
      "-4*alpha_C*alpha_S**2*r_C*r_S\n",
      "-4\n",
      "alpha_C\n",
      "r_C\n",
      "r_S\n",
      "alpha_S**2\n",
      "alpha_S\n",
      "2\n",
      "-4*alpha_C**2*alpha_S*r_C*r_S\n",
      "-4\n",
      "alpha_S\n",
      "r_C\n",
      "r_S\n",
      "alpha_C**2\n",
      "alpha_C\n",
      "2\n",
      "2*alpha_C*alpha_S*r_C*r_S\n",
      "2\n",
      "alpha_C\n",
      "alpha_S\n",
      "r_C\n",
      "r_S\n",
      "4*alpha_C**2*alpha_S**2*r_C*r_S\n",
      "4\n",
      "r_C\n",
      "r_S\n",
      "alpha_C**2\n",
      "alpha_C\n",
      "2\n",
      "alpha_S**2\n",
      "alpha_S\n",
      "2\n",
      "1/2\n",
      "-(alpha_C*r_S + alpha_S*r_C - r_C - r_S)/(2*(alpha_C*alpha_S - 1))\n",
      "-1/2\n",
      "1/(alpha_C*alpha_S - 1)\n",
      "alpha_C*alpha_S - 1\n",
      "-1\n",
      "alpha_C*alpha_S\n",
      "alpha_C\n",
      "alpha_S\n",
      "-1\n",
      "alpha_C*r_S + alpha_S*r_C - r_C - r_S\n",
      "-r_C\n",
      "-1\n",
      "r_C\n",
      "-r_S\n",
      "-1\n",
      "r_S\n",
      "alpha_C*r_S\n",
      "alpha_C\n",
      "r_S\n",
      "alpha_S*r_C\n",
      "alpha_S\n",
      "r_C\n"
     ]
    }
   ],
   "source": [
    "mem = 0\n",
    "pre(ev0)\n",
    "#ev0\n"
   ]
  },
  {
   "cell_type": "code",
   "execution_count": 8,
   "metadata": {},
   "outputs": [],
   "source": [
    "det = sy.parse_expr( \"4*alpha_C**2*alpha_S**2*r_C*r_S - 4*alpha_C**2*alpha_S*r_C*r_S + alpha_C**2*r_S**2 - 4*alpha_C*alpha_S**2*r_C*r_S + 2*alpha_C*alpha_S*r_C*r_S + 2*alpha_C*r_C*r_S - 2*alpha_C*r_S**2 + alpha_S**2*r_C**2 - 2*alpha_S*r_C**2 + 2*alpha_S*r_C*r_S + r_C**2 - 2*r_C*r_S + r_S**2\")"
   ]
  },
  {
   "cell_type": "code",
   "execution_count": 19,
   "metadata": {},
   "outputs": [
    {
     "name": "stdout",
     "output_type": "stream",
     "text": [
      "Determinante: 3.06250000000000\n"
     ]
    }
   ],
   "source": [
    "sd_det = {\n",
    "    v_Syms[2] : 2.00        ,   # r_S\n",
    "    v_Syms[3] : 2.50        ,   # r_C\n",
    "    v_Syms[4] : 1.00        ,   # alpha_S\n",
    "    v_Syms[5] : 0.30        ,   # alpha_C\n",
    "}\n",
    "print(\"Determinante:\", det.subs(sd_det))"
   ]
  },
  {
   "cell_type": "markdown",
   "metadata": {},
   "source": [
    "- 4 aC^2 aS rC rS \n",
    "- 4 aC aS^2 rC rS \n",
    "- 2 aC rS^2 \n",
    "- 2 aS rC^2 \n",
    "- 2 rC rS\n",
    "+ 4 aC^2 aS^2 rC rS \n",
    "+ aC^2 rS^2 \n",
    "+ 2 aC aS rC rS \n",
    "+ 2 aC rC rS \n",
    "+ aS^2 rC^2 \n",
    "+ 2 aS rC rS \n",
    "+ rC^2 \n",
    "+ rS^2\n",
    "\n",
    "a_S -> a\n",
    "a_C -> b\n",
    "r_S -> r\n",
    "r_C -> p\n",
    "\n",
    "(4*b^2*a*p*r\n",
    "+4*b*a^2*p*r\n",
    "+2*b*r^2\n",
    "+2*a*p^2\n",
    "+2*p*r)\n",
    ">\n",
    "(4*b^2*a^2*p*r\n",
    "+b^2*r^2\n",
    "+2*b*a*p*r\n",
    "+2*b*p*r\n",
    "+a^2*p^2\n",
    "+2*a*p*r\n",
    "+p^2\n",
    "+r^2)\n",
    "\n",
    "4*alpha_C**2*alpha_S**2*r_C*r_S - 4*alpha_C**2*alpha_S*r_C*r_S + alpha_C**2*r_S**2 - 4*alpha_C*alpha_S**2*r_C*r_S + 2*alpha_C*alpha_S*r_C*r_S + 2*alpha_C*r_C*r_S - 2*alpha_C*r_S**2 + alpha_S**2*r_C**2 - 2*alpha_S*r_C**2 + 2*alpha_S*r_C*r_S + r_C**2 - 2*r_C*r_S + r_S**2\n",
    "\n",
    "(4*b^2*a*p*r+4*b*a^2*p*r+2*b*r^2+2*a*p^2+2*p*r)>(4*b^2*a^2*p*r+b^2*r^2+2*b*a*p*r+2*b*p*r+a^2*p^2+2*a*p*r+p^2+r^2)"
   ]
  },
  {
   "cell_type": "markdown",
   "metadata": {},
   "source": [
    "$\\frac{1}{K}(r_s S - r_s S^2 - r_s\\alpha_C S  C  )$"
   ]
  }
 ],
 "metadata": {
  "kernelspec": {
   "display_name": "Python 3",
   "language": "python",
   "name": "python3"
  },
  "language_info": {
   "codemirror_mode": {
    "name": "ipython",
    "version": 3
   },
   "file_extension": ".py",
   "mimetype": "text/x-python",
   "name": "python",
   "nbconvert_exporter": "python",
   "pygments_lexer": "ipython3",
   "version": "3.11.2"
  },
  "orig_nbformat": 4
 },
 "nbformat": 4,
 "nbformat_minor": 2
}
